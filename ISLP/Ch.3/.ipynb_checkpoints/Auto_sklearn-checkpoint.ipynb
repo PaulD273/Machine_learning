{
 "cells": [
  {
   "cell_type": "markdown",
   "id": "b9f64e3f-c4e3-4958-b122-28ca6833f71b",
   "metadata": {},
   "source": [
    "# EX.1"
   ]
  },
  {
   "cell_type": "markdown",
   "id": "15f6e7a5-4f95-4639-93ed-cdad8fe1f32a",
   "metadata": {},
   "source": [
    "![ex1.png](./ex1.PNG)"
   ]
  },
  {
   "cell_type": "code",
   "execution_count": 1,
   "id": "bb783287-fed1-4df3-b3ba-6f8c55cfc153",
   "metadata": {},
   "outputs": [],
   "source": [
    "import numpy as np\n",
    "import pandas as pd\n",
    "import matplotlib.pyplot as plt\n",
    "import statsmodels.api as sm"
   ]
  },
  {
   "cell_type": "code",
   "execution_count": 2,
   "id": "18eae534-4863-4c45-b644-cb0b6997af75",
   "metadata": {},
   "outputs": [],
   "source": [
    "from ISLP import load_data\n",
    "from ISLP.models import (ModelSpec as MS, summarize, poly)\n",
    "from sklearn.preprocessing import PolynomialFeatures\n",
    "from sklearn.linear_model import LinearRegression\n",
    "from sklearn.pipeline import make_pipeline\n",
    "from sklearn.metrics import r2_score"
   ]
  },
  {
   "cell_type": "code",
   "execution_count": 3,
   "id": "136ca6a9-adb0-446f-b139-4affdbcc4b3b",
   "metadata": {},
   "outputs": [],
   "source": [
    "from statsmodels.stats.outliers_influence import variance_inflation_factor as VIF\n",
    "from statsmodels.stats.anova import anova_lm"
   ]
  },
  {
   "cell_type": "code",
   "execution_count": 4,
   "id": "07d326dd-22ea-4b75-a41e-73ff70d1e326",
   "metadata": {},
   "outputs": [],
   "source": [
    "def abline(ax, b, m, *args , **kwargs):\n",
    "    \"Add a line with slope m and intercept b to ax\"\n",
    "    xlim = ax.get_xlim()\n",
    "    ylim = [m * xlim[0] + b, m * xlim[1] + b]\n",
    "    ax.plot(xlim , ylim , *args , **kwargs)"
   ]
  },
  {
   "cell_type": "code",
   "execution_count": 5,
   "id": "62331ca4-e7e9-4f94-9e61-1ba65c1fe310",
   "metadata": {},
   "outputs": [
    {
     "data": {
      "text/plain": [
       "Index(['mpg', 'cylinders', 'displacement', 'horsepower', 'weight',\n",
       "       'acceleration', 'year', 'origin'],\n",
       "      dtype='object')"
      ]
     },
     "execution_count": 5,
     "metadata": {},
     "output_type": "execute_result"
    }
   ],
   "source": [
    "Auto = load_data('Auto')\n",
    "Auto.columns"
   ]
  },
  {
   "cell_type": "code",
   "execution_count": 6,
   "id": "b0a6ca93-c40e-4909-88a7-ee73001c7677",
   "metadata": {},
   "outputs": [
    {
     "data": {
      "text/plain": [
       "(392, 8)"
      ]
     },
     "execution_count": 6,
     "metadata": {},
     "output_type": "execute_result"
    }
   ],
   "source": [
    "Auto.shape"
   ]
  },
  {
   "cell_type": "code",
   "execution_count": 7,
   "id": "120a25f8-8a08-4749-8aa9-4f9f728ce5f3",
   "metadata": {},
   "outputs": [
    {
     "data": {
      "text/html": [
       "<div>\n",
       "<style scoped>\n",
       "    .dataframe tbody tr th:only-of-type {\n",
       "        vertical-align: middle;\n",
       "    }\n",
       "\n",
       "    .dataframe tbody tr th {\n",
       "        vertical-align: top;\n",
       "    }\n",
       "\n",
       "    .dataframe thead th {\n",
       "        text-align: right;\n",
       "    }\n",
       "</style>\n",
       "<table border=\"1\" class=\"dataframe\">\n",
       "  <thead>\n",
       "    <tr style=\"text-align: right;\">\n",
       "      <th></th>\n",
       "      <th>horsepower</th>\n",
       "    </tr>\n",
       "    <tr>\n",
       "      <th>name</th>\n",
       "      <th></th>\n",
       "    </tr>\n",
       "  </thead>\n",
       "  <tbody>\n",
       "    <tr>\n",
       "      <th>chevrolet chevelle malibu</th>\n",
       "      <td>130</td>\n",
       "    </tr>\n",
       "    <tr>\n",
       "      <th>buick skylark 320</th>\n",
       "      <td>165</td>\n",
       "    </tr>\n",
       "    <tr>\n",
       "      <th>plymouth satellite</th>\n",
       "      <td>150</td>\n",
       "    </tr>\n",
       "    <tr>\n",
       "      <th>amc rebel sst</th>\n",
       "      <td>150</td>\n",
       "    </tr>\n",
       "    <tr>\n",
       "      <th>ford torino</th>\n",
       "      <td>140</td>\n",
       "    </tr>\n",
       "    <tr>\n",
       "      <th>...</th>\n",
       "      <td>...</td>\n",
       "    </tr>\n",
       "    <tr>\n",
       "      <th>ford mustang gl</th>\n",
       "      <td>86</td>\n",
       "    </tr>\n",
       "    <tr>\n",
       "      <th>vw pickup</th>\n",
       "      <td>52</td>\n",
       "    </tr>\n",
       "    <tr>\n",
       "      <th>dodge rampage</th>\n",
       "      <td>84</td>\n",
       "    </tr>\n",
       "    <tr>\n",
       "      <th>ford ranger</th>\n",
       "      <td>79</td>\n",
       "    </tr>\n",
       "    <tr>\n",
       "      <th>chevy s-10</th>\n",
       "      <td>82</td>\n",
       "    </tr>\n",
       "  </tbody>\n",
       "</table>\n",
       "<p>392 rows × 1 columns</p>\n",
       "</div>"
      ],
      "text/plain": [
       "                           horsepower\n",
       "name                                 \n",
       "chevrolet chevelle malibu         130\n",
       "buick skylark 320                 165\n",
       "plymouth satellite                150\n",
       "amc rebel sst                     150\n",
       "ford torino                       140\n",
       "...                               ...\n",
       "ford mustang gl                    86\n",
       "vw pickup                          52\n",
       "dodge rampage                      84\n",
       "ford ranger                        79\n",
       "chevy s-10                         82\n",
       "\n",
       "[392 rows x 1 columns]"
      ]
     },
     "execution_count": 7,
     "metadata": {},
     "output_type": "execute_result"
    }
   ],
   "source": [
    "X = Auto[['horsepower']]\n",
    "y = Auto['mpg']\n",
    "X"
   ]
  },
  {
   "cell_type": "code",
   "execution_count": 8,
   "id": "d2599009-1759-4140-8d56-52c56870eef0",
   "metadata": {},
   "outputs": [
    {
     "name": "stdout",
     "output_type": "stream",
     "text": [
      "Intercept: 39.93586102117048\n",
      "Coefficients: [ 0.         -0.15784473]\n"
     ]
    }
   ],
   "source": [
    "model = make_pipeline(PolynomialFeatures(1), LinearRegression())\n",
    "model.fit(X, y)\n",
    "# Access the linear model\n",
    "linreg = model.named_steps['linearregression']\n",
    "\n",
    "# Get coefficients and intercept\n",
    "print(\"Intercept:\", linreg.intercept_)\n",
    "print(\"Coefficients:\", linreg.coef_)"
   ]
  },
  {
   "cell_type": "code",
   "execution_count": 9,
   "id": "23fa8937-2b6e-43bd-a418-1a7c1e286d2d",
   "metadata": {},
   "outputs": [
    {
     "data": {
      "image/png": "[encoded data removed]",
      "text/plain": [
       "<Figure size 432x288 with 1 Axes>"
      ]
     },
     "metadata": {
      "needs_background": "light"
     },
     "output_type": "display_data"
    }
   ],
   "source": [
    "ax = Auto.plot.scatter('horsepower', 'mpg')\n",
    "abline(ax, linreg.intercept_, linreg.coef_[1], 'r--', linewidth = 3)"
   ]
  },
  {
   "cell_type": "code",
   "execution_count": 10,
   "id": "b0a7125c-c558-431e-8120-1f5cf824d71f",
   "metadata": {},
   "outputs": [
    {
     "data": {
      "image/png": "[encoded data removed]",
      "text/plain": [
       "<Figure size 432x288 with 1 Axes>"
      ]
     },
     "metadata": {
      "needs_background": "light"
     },
     "output_type": "display_data"
    }
   ],
   "source": [
    "x_vals_lin = np.linspace(X.min(), X.max(), 392).reshape(-1, 1)\n",
    "x_vals_lin = pd.DataFrame({'horsepower': x_vals_lin.ravel()})\n",
    "# Predict using the same transformation\n",
    "y_pred_lin = model.predict(x_vals_lin)\n",
    "\n",
    "# Plot\n",
    "Auto.plot.scatter('horsepower', 'mpg')\n",
    "plt.plot(x_vals_lin, y_pred_lin, 'r--', linewidth = 3)\n",
    "plt.show()"
   ]
  },
  {
   "cell_type": "code",
   "execution_count": null,
   "id": "019562c8-3015-49e0-9e11-de4445b14ef8",
   "metadata": {},
   "outputs": [],
   "source": []
  },
  {
   "cell_type": "code",
   "execution_count": 16,
   "id": "455c3d67-fed3-4dc5-987a-0099aa2ea07f",
   "metadata": {},
   "outputs": [
    {
     "data": {
      "text/plain": [
       "0.6059482578894348"
      ]
     },
     "execution_count": 16,
     "metadata": {},
     "output_type": "execute_result"
    }
   ],
   "source": [
    "model.score(X, y)"
   ]
  },
  {
   "cell_type": "markdown",
   "id": "b2f7c669-11b7-4657-a6b4-71d332da0b0e",
   "metadata": {},
   "source": [
    "With a relatively high value of $R^2 = 0.606$, we can find an inverse proportionality between horsepower and mpg (miles per gallon). This result intuitively makes sense: a more powerful engine tends to consume an higher amount of fuel and so it makes a lower number of miles with a gallon of fuel."
   ]
  },
  {
   "cell_type": "code",
   "execution_count": null,
   "id": "87905335-0300-4d12-b4af-5b5f9cdabbf1",
   "metadata": {},
   "outputs": [],
   "source": []
  },
  {
   "cell_type": "code",
   "execution_count": 12,
   "id": "7f901d46-3fd3-496d-ae01-14365dbb08a1",
   "metadata": {},
   "outputs": [],
   "source": [
    "# Add the new data with horsepower 98\n",
    "new_df = pd.DataFrame({'horsepower':[98]})\n",
    "newX = MS(['horsepower']).fit_transform(new_df)"
   ]
  },
  {
   "cell_type": "code",
   "execution_count": 13,
   "id": "29dbe96f-0996-4fc6-a842-67100623dd5c",
   "metadata": {},
   "outputs": [
    {
     "ename": "NameError",
     "evalue": "name 'result' is not defined",
     "output_type": "error",
     "traceback": [
      "\u001b[0;31m---------------------------------------------------------------------------\u001b[0m",
      "\u001b[0;31mNameError\u001b[0m                                 Traceback (most recent call last)",
      "Cell \u001b[0;32mIn[13], line 1\u001b[0m\n\u001b[0;32m----> 1\u001b[0m new_predictions \u001b[38;5;241m=\u001b[39m result\u001b[38;5;241m.\u001b[39mget_prediction(newX)\n\u001b[1;32m      2\u001b[0m \u001b[38;5;66;03m# Predicted mean simply computes the predicted value of y using the trained values of b and w and the newX\u001b[39;00m\n\u001b[1;32m      3\u001b[0m new_predictions\u001b[38;5;241m.\u001b[39mpredicted_mean\n",
      "\u001b[0;31mNameError\u001b[0m: name 'result' is not defined"
     ]
    }
   ],
   "source": [
    "new_predictions = result.get_prediction(newX)\n",
    "# Predicted mean simply computes the predicted value of y using the trained values of b and w and the newX\n",
    "new_predictions.predicted_mean"
   ]
  },
  {
   "cell_type": "code",
   "execution_count": null,
   "id": "1bc0a027-b414-49a8-84df-1fe23b6ad0c1",
   "metadata": {},
   "outputs": [],
   "source": [
    "# Computes the confidence intervals\n",
    "new_predictions.conf_int(alpha=0.05)"
   ]
  },
  {
   "cell_type": "code",
   "execution_count": null,
   "id": "5cb02d08-24a4-41c1-98ea-3eccfe4f2c87",
   "metadata": {},
   "outputs": [],
   "source": [
    "# Computes the confidence intervals, which takes into account both the uncertainty of the mean and the variability of the individual data points --> wider range\n",
    "new_predictions.conf_int(obs = True, alpha=0.05)"
   ]
  },
  {
   "cell_type": "markdown",
   "id": "cdc7b1fb-988b-45be-ae53-0ea5ec2969cb",
   "metadata": {},
   "source": [
    "Both centered around the predicted mean $24.467$."
   ]
  },
  {
   "cell_type": "code",
   "execution_count": null,
   "id": "54c28750-188a-4e8e-b2e7-1301e79dbd59",
   "metadata": {},
   "outputs": [],
   "source": []
  },
  {
   "cell_type": "code",
   "execution_count": null,
   "id": "292cc2cc-4728-4b26-b073-5ddf65640d61",
   "metadata": {},
   "outputs": [],
   "source": [
    "ax = plt.subplots(figsize=(8,8))[1]\n",
    "ax.scatter(result.fittedvalues , result.resid)\n",
    "ax.set_xlabel('Fitted value')\n",
    "ax.set_ylabel('Residual')\n",
    "ax.axhline(0, c='k', ls='--');"
   ]
  },
  {
   "cell_type": "markdown",
   "id": "172ea76e-49c5-4190-97d9-59a4c7275a3d",
   "metadata": {},
   "source": [
    "A pattern can be inferred from the residuals, maybe the underlying dependency is quadratic."
   ]
  },
  {
   "cell_type": "code",
   "execution_count": null,
   "id": "db37c271-0e85-43b0-80b3-8c8dc266b458",
   "metadata": {},
   "outputs": [],
   "source": [
    "infl = result.get_influence()\n",
    "ax = plt.subplots(figsize=(8,8))[1]\n",
    "#Leverage statistics can be computed for any number of predictors using the hat_matrix_diag attribute of the value returned by the get_influence() method.\n",
    "ax.scatter(np.arange(X.shape[0]), infl.hat_matrix_diag)\n",
    "ax.set_xlabel('Index')\n",
    "ax.set_ylabel('Leverage')\n",
    "# maximized over the entire array to determine which observation has the largest leverage statistic.\n",
    "np.argmax(infl.hat_matrix_diag)"
   ]
  },
  {
   "cell_type": "code",
   "execution_count": null,
   "id": "42fc7bea-5960-427b-a3f2-ae014ffdf155",
   "metadata": {},
   "outputs": [],
   "source": [
    "Auto.iloc[115]"
   ]
  },
  {
   "cell_type": "code",
   "execution_count": null,
   "id": "13e3a26e-5f06-4a2d-8246-3fa09aa22bdc",
   "metadata": {},
   "outputs": [],
   "source": [
    "new_df = pd.DataFrame({'horsepower':[230]})\n",
    "newX = MS(['horsepower']).fit_transform(new_df)\n",
    "new_predictions = result.get_prediction(newX)\n",
    "# Predicted mean simply computes the predicted value of y using the trained values of b and w and the newX\n",
    "new_predictions.predicted_mean"
   ]
  },
  {
   "cell_type": "code",
   "execution_count": null,
   "id": "f1f5fefa-73a1-47e3-a3af-304afa1c8abd",
   "metadata": {},
   "outputs": [],
   "source": []
  },
  {
   "cell_type": "code",
   "execution_count": null,
   "id": "f9d91c07-2a9c-4170-8139-52380bdd8e42",
   "metadata": {},
   "outputs": [],
   "source": [
    "X = MS([poly('horsepower', degree=2)]).fit_transform(Auto)\n",
    "model3 = sm.OLS(y, X)\n",
    "result3 = model3.fit()\n",
    "summarize(result3)"
   ]
  },
  {
   "cell_type": "code",
   "execution_count": null,
   "id": "0a47ffc0-70d5-4540-b995-ab1a5ff7472a",
   "metadata": {},
   "outputs": [],
   "source": [
    "x_vals = np.linspace(Auto['horsepower'].min(), Auto['horsepower'].max(), 100)\n",
    "x_poly = MS([poly('horsepower', degree=2)]).fit(Auto).transform(pd.DataFrame({'horsepower': x_vals}))\n",
    "\n",
    "# Predict using the same transformation\n",
    "y_pred = result3.predict(x_poly)\n",
    "\n",
    "# Plot\n",
    "Auto.plot.scatter('horsepower', 'mpg')\n",
    "plt.plot(x_vals, y_pred, color='red')\n",
    "plt.show()"
   ]
  },
  {
   "cell_type": "code",
   "execution_count": null,
   "id": "243103df-a483-443f-bad6-b387698a1020",
   "metadata": {},
   "outputs": [],
   "source": [
    "result3.params"
   ]
  },
  {
   "cell_type": "code",
   "execution_count": null,
   "id": "fb37bfeb-4866-4a4f-b9f2-6b62596c210c",
   "metadata": {},
   "outputs": [],
   "source": [
    "anova_lm(result , result3)"
   ]
  },
  {
   "cell_type": "code",
   "execution_count": null,
   "id": "389f777c-b7f5-4895-b6dc-f27ca4d5bfae",
   "metadata": {},
   "outputs": [],
   "source": []
  },
  {
   "cell_type": "code",
   "execution_count": null,
   "id": "1e276c41-2205-40b7-af0f-5fd7f4cb71d5",
   "metadata": {},
   "outputs": [],
   "source": []
  },
  {
   "cell_type": "code",
   "execution_count": null,
   "id": "dfad1ac1-7cca-48cb-88d0-3970a8510ff4",
   "metadata": {},
   "outputs": [],
   "source": []
  },
  {
   "cell_type": "code",
   "execution_count": null,
   "id": "f094469e-4316-403a-9a92-6c3b43f4e20b",
   "metadata": {},
   "outputs": [],
   "source": []
  },
  {
   "cell_type": "code",
   "execution_count": null,
   "id": "1278cd43-473a-42a1-b547-af654d7696c0",
   "metadata": {},
   "outputs": [],
   "source": []
  },
  {
   "cell_type": "code",
   "execution_count": null,
   "id": "f8b53541-118e-4ff9-9de8-3f23a6f65b35",
   "metadata": {},
   "outputs": [],
   "source": [
    "X2 = MS(Auto.columns).fit_transform(Auto)\n",
    "X2"
   ]
  }
 ],
 "metadata": {
  "kernelspec": {
   "display_name": "Python 3 (ipykernel)",
   "language": "python",
   "name": "python3"
  },
  "language_info": {
   "codemirror_mode": {
    "name": "ipython",
    "version": 3
   },
   "file_extension": ".py",
   "mimetype": "text/x-python",
   "name": "python",
   "nbconvert_exporter": "python",
   "pygments_lexer": "ipython3",
   "version": "3.11.0"
  }
 },
 "nbformat": 4,
 "nbformat_minor": 5
}
