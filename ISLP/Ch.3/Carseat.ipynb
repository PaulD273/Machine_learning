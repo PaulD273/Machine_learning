{
 "cells": [
  {
   "cell_type": "markdown",
   "id": "b43bd9c8-6228-4e4b-bdd6-e786c31ce547",
   "metadata": {},
   "source": [
    "# EX.10"
   ]
  },
  {
   "cell_type": "markdown",
   "id": "a8126cc8-d9de-424f-be73-ef42ae99a288",
   "metadata": {},
   "source": [
    "![ex_10.PNG](./ex_10.PNG)"
   ]
  },
  {
   "cell_type": "code",
   "execution_count": 1,
   "id": "5e56031d-467f-4073-9ffe-b2cc66d0e3fb",
   "metadata": {},
   "outputs": [],
   "source": [
    "import numpy as np\n",
    "import pandas as pd\n",
    "import matplotlib.pyplot as plt\n",
    "import matplotlib.cm as cm\n",
    "import statsmodels.api as sm"
   ]
  },
  {
   "cell_type": "code",
   "execution_count": 2,
   "id": "82710041-b4c8-4756-ae95-abf984c3fa4f",
   "metadata": {},
   "outputs": [],
   "source": [
    "from ISLP import load_data\n",
    "from ISLP.models import (ModelSpec as MS, summarize, poly)\n",
    "from sklearn.preprocessing import PolynomialFeatures\n",
    "from sklearn.metrics import r2_score"
   ]
  },
  {
   "cell_type": "code",
   "execution_count": 3,
   "id": "3ab9c44b-273e-45f3-b2bc-646ea2bc62e3",
   "metadata": {},
   "outputs": [],
   "source": [
    "from statsmodels.stats.outliers_influence import variance_inflation_factor as VIF\n",
    "from statsmodels.stats.anova import anova_lm\n",
    "from statsmodels.formula.api import ols"
   ]
  },
  {
   "cell_type": "code",
   "execution_count": 4,
   "id": "cd8db5ae-2b88-4908-9535-004c2e0a9996",
   "metadata": {},
   "outputs": [],
   "source": [
    "from sklearn.preprocessing import PolynomialFeatures\n",
    "from sklearn.linear_model import LinearRegression\n",
    "from sklearn.pipeline import make_pipeline\n",
    "from sklearn.metrics import r2_score"
   ]
  },
  {
   "cell_type": "code",
   "execution_count": 5,
   "id": "efebe4f3-a32e-45ea-8596-5ebe39144def",
   "metadata": {},
   "outputs": [
    {
     "data": {
      "text/plain": [
       "Index(['Sales', 'CompPrice', 'Income', 'Advertising', 'Population', 'Price',\n",
       "       'ShelveLoc', 'Age', 'Education', 'Urban', 'US'],\n",
       "      dtype='object')"
      ]
     },
     "execution_count": 5,
     "metadata": {},
     "output_type": "execute_result"
    }
   ],
   "source": [
    "carseats = load_data('Carseats')\n",
    "carseats.columns"
   ]
  },
  {
   "cell_type": "raw",
   "id": "4da70b2c-db72-4816-9601-8597441ea222",
   "metadata": {},
   "source": [
    "Sales: Unit sales (in thousands) at each location of child car seats\n",
    "\n",
    "CompPrice: Price charged by competitor at each location\n",
    "\n",
    "Income: Community income level (in thousands of dollars)\n",
    "\n",
    "Advertising: Local advertising budget for company at each location (in thousands of dollars)\n",
    "\n",
    "Population: Population size in region (in thousands)\n",
    "\n",
    "Price: Price company charges for car seats at each site\n",
    "\n",
    "ShelveLoc: A factor with levels Bad, Good and Medium indicating the quality of the shelving location for the car seats at each site\n",
    "\n",
    "Age: Average age of the local population\n",
    "\n",
    "Education: Education level at each location\n",
    "\n",
    "Urban: A factor with levels No and Yes to indicate whether the store is in an urban or rural location\n",
    "\n",
    "US: A factor with levels No and Yes to indicate whether the store is in the US or not"
   ]
  },
  {
   "cell_type": "code",
   "execution_count": 6,
   "id": "6866a73d-1015-49a8-9b82-6836f84adc88",
   "metadata": {},
   "outputs": [
    {
     "data": {
      "text/html": [
       "<div>\n",
       "<style scoped>\n",
       "    .dataframe tbody tr th:only-of-type {\n",
       "        vertical-align: middle;\n",
       "    }\n",
       "\n",
       "    .dataframe tbody tr th {\n",
       "        vertical-align: top;\n",
       "    }\n",
       "\n",
       "    .dataframe thead th {\n",
       "        text-align: right;\n",
       "    }\n",
       "</style>\n",
       "<table border=\"1\" class=\"dataframe\">\n",
       "  <thead>\n",
       "    <tr style=\"text-align: right;\">\n",
       "      <th></th>\n",
       "      <th>intercept</th>\n",
       "      <th>Price</th>\n",
       "      <th>Urban[Yes]</th>\n",
       "      <th>US[Yes]</th>\n",
       "    </tr>\n",
       "  </thead>\n",
       "  <tbody>\n",
       "    <tr>\n",
       "      <th>0</th>\n",
       "      <td>1.0</td>\n",
       "      <td>120</td>\n",
       "      <td>1.0</td>\n",
       "      <td>1.0</td>\n",
       "    </tr>\n",
       "    <tr>\n",
       "      <th>1</th>\n",
       "      <td>1.0</td>\n",
       "      <td>83</td>\n",
       "      <td>1.0</td>\n",
       "      <td>1.0</td>\n",
       "    </tr>\n",
       "    <tr>\n",
       "      <th>2</th>\n",
       "      <td>1.0</td>\n",
       "      <td>80</td>\n",
       "      <td>1.0</td>\n",
       "      <td>1.0</td>\n",
       "    </tr>\n",
       "    <tr>\n",
       "      <th>3</th>\n",
       "      <td>1.0</td>\n",
       "      <td>97</td>\n",
       "      <td>1.0</td>\n",
       "      <td>1.0</td>\n",
       "    </tr>\n",
       "    <tr>\n",
       "      <th>4</th>\n",
       "      <td>1.0</td>\n",
       "      <td>128</td>\n",
       "      <td>1.0</td>\n",
       "      <td>0.0</td>\n",
       "    </tr>\n",
       "    <tr>\n",
       "      <th>...</th>\n",
       "      <td>...</td>\n",
       "      <td>...</td>\n",
       "      <td>...</td>\n",
       "      <td>...</td>\n",
       "    </tr>\n",
       "    <tr>\n",
       "      <th>395</th>\n",
       "      <td>1.0</td>\n",
       "      <td>128</td>\n",
       "      <td>1.0</td>\n",
       "      <td>1.0</td>\n",
       "    </tr>\n",
       "    <tr>\n",
       "      <th>396</th>\n",
       "      <td>1.0</td>\n",
       "      <td>120</td>\n",
       "      <td>0.0</td>\n",
       "      <td>1.0</td>\n",
       "    </tr>\n",
       "    <tr>\n",
       "      <th>397</th>\n",
       "      <td>1.0</td>\n",
       "      <td>159</td>\n",
       "      <td>1.0</td>\n",
       "      <td>1.0</td>\n",
       "    </tr>\n",
       "    <tr>\n",
       "      <th>398</th>\n",
       "      <td>1.0</td>\n",
       "      <td>95</td>\n",
       "      <td>1.0</td>\n",
       "      <td>1.0</td>\n",
       "    </tr>\n",
       "    <tr>\n",
       "      <th>399</th>\n",
       "      <td>1.0</td>\n",
       "      <td>120</td>\n",
       "      <td>1.0</td>\n",
       "      <td>1.0</td>\n",
       "    </tr>\n",
       "  </tbody>\n",
       "</table>\n",
       "<p>400 rows × 4 columns</p>\n",
       "</div>"
      ],
      "text/plain": [
       "     intercept  Price  Urban[Yes]  US[Yes]\n",
       "0          1.0    120         1.0      1.0\n",
       "1          1.0     83         1.0      1.0\n",
       "2          1.0     80         1.0      1.0\n",
       "3          1.0     97         1.0      1.0\n",
       "4          1.0    128         1.0      0.0\n",
       "..         ...    ...         ...      ...\n",
       "395        1.0    128         1.0      1.0\n",
       "396        1.0    120         0.0      1.0\n",
       "397        1.0    159         1.0      1.0\n",
       "398        1.0     95         1.0      1.0\n",
       "399        1.0    120         1.0      1.0\n",
       "\n",
       "[400 rows x 4 columns]"
      ]
     },
     "execution_count": 6,
     "metadata": {},
     "output_type": "execute_result"
    }
   ],
   "source": [
    "X = MS(['Price', 'Urban', 'US']).fit_transform(carseats)\n",
    "X"
   ]
  },
  {
   "cell_type": "code",
   "execution_count": 7,
   "id": "1b637982-c653-4ee0-8e4e-7659f5618abd",
   "metadata": {},
   "outputs": [],
   "source": [
    "y = carseats['Sales']"
   ]
  },
  {
   "cell_type": "code",
   "execution_count": 17,
   "id": "faa5fa30-1f84-4bb8-ad64-5fafc61a607f",
   "metadata": {},
   "outputs": [
    {
     "data": {
      "text/html": [
       "<table class=\"simpletable\">\n",
       "<caption>OLS Regression Results</caption>\n",
       "<tr>\n",
       "  <th>Dep. Variable:</th>          <td>Sales</td>      <th>  R-squared:         </th> <td>   0.239</td>\n",
       "</tr>\n",
       "<tr>\n",
       "  <th>Model:</th>                   <td>OLS</td>       <th>  Adj. R-squared:    </th> <td>   0.234</td>\n",
       "</tr>\n",
       "<tr>\n",
       "  <th>Method:</th>             <td>Least Squares</td>  <th>  F-statistic:       </th> <td>   41.52</td>\n",
       "</tr>\n",
       "<tr>\n",
       "  <th>Date:</th>             <td>Fri, 29 Aug 2025</td> <th>  Prob (F-statistic):</th> <td>2.39e-23</td>\n",
       "</tr>\n",
       "<tr>\n",
       "  <th>Time:</th>                 <td>11:27:33</td>     <th>  Log-Likelihood:    </th> <td> -927.66</td>\n",
       "</tr>\n",
       "<tr>\n",
       "  <th>No. Observations:</th>      <td>   400</td>      <th>  AIC:               </th> <td>   1863.</td>\n",
       "</tr>\n",
       "<tr>\n",
       "  <th>Df Residuals:</th>          <td>   396</td>      <th>  BIC:               </th> <td>   1879.</td>\n",
       "</tr>\n",
       "<tr>\n",
       "  <th>Df Model:</th>              <td>     3</td>      <th>                     </th>     <td> </td>   \n",
       "</tr>\n",
       "<tr>\n",
       "  <th>Covariance Type:</th>      <td>nonrobust</td>    <th>                     </th>     <td> </td>   \n",
       "</tr>\n",
       "</table>\n",
       "<table class=\"simpletable\">\n",
       "<tr>\n",
       "        <td></td>          <th>coef</th>     <th>std err</th>      <th>t</th>      <th>P>|t|</th>  <th>[0.025</th>    <th>0.975]</th>  \n",
       "</tr>\n",
       "<tr>\n",
       "  <th>Intercept</th>    <td>   13.0435</td> <td>    0.651</td> <td>   20.036</td> <td> 0.000</td> <td>   11.764</td> <td>   14.323</td>\n",
       "</tr>\n",
       "<tr>\n",
       "  <th>Urban[T.Yes]</th> <td>   -0.0219</td> <td>    0.272</td> <td>   -0.081</td> <td> 0.936</td> <td>   -0.556</td> <td>    0.512</td>\n",
       "</tr>\n",
       "<tr>\n",
       "  <th>US[T.Yes]</th>    <td>    1.2006</td> <td>    0.259</td> <td>    4.635</td> <td> 0.000</td> <td>    0.691</td> <td>    1.710</td>\n",
       "</tr>\n",
       "<tr>\n",
       "  <th>Price</th>        <td>   -0.0545</td> <td>    0.005</td> <td>  -10.389</td> <td> 0.000</td> <td>   -0.065</td> <td>   -0.044</td>\n",
       "</tr>\n",
       "</table>\n",
       "<table class=\"simpletable\">\n",
       "<tr>\n",
       "  <th>Omnibus:</th>       <td> 0.676</td> <th>  Durbin-Watson:     </th> <td>   1.912</td>\n",
       "</tr>\n",
       "<tr>\n",
       "  <th>Prob(Omnibus):</th> <td> 0.713</td> <th>  Jarque-Bera (JB):  </th> <td>   0.758</td>\n",
       "</tr>\n",
       "<tr>\n",
       "  <th>Skew:</th>          <td> 0.093</td> <th>  Prob(JB):          </th> <td>   0.684</td>\n",
       "</tr>\n",
       "<tr>\n",
       "  <th>Kurtosis:</th>      <td> 2.897</td> <th>  Cond. No.          </th> <td>    628.</td>\n",
       "</tr>\n",
       "</table><br/><br/>Notes:<br/>[1] Standard Errors assume that the covariance matrix of the errors is correctly specified."
      ],
      "text/latex": [
       "\\begin{center}\n",
       "\\begin{tabular}{lclc}\n",
       "\\toprule\n",
       "\\textbf{Dep. Variable:}    &      Sales       & \\textbf{  R-squared:         } &     0.239   \\\\\n",
       "\\textbf{Model:}            &       OLS        & \\textbf{  Adj. R-squared:    } &     0.234   \\\\\n",
       "\\textbf{Method:}           &  Least Squares   & \\textbf{  F-statistic:       } &     41.52   \\\\\n",
       "\\textbf{Date:}             & Fri, 29 Aug 2025 & \\textbf{  Prob (F-statistic):} &  2.39e-23   \\\\\n",
       "\\textbf{Time:}             &     11:27:33     & \\textbf{  Log-Likelihood:    } &   -927.66   \\\\\n",
       "\\textbf{No. Observations:} &         400      & \\textbf{  AIC:               } &     1863.   \\\\\n",
       "\\textbf{Df Residuals:}     &         396      & \\textbf{  BIC:               } &     1879.   \\\\\n",
       "\\textbf{Df Model:}         &           3      & \\textbf{                     } &             \\\\\n",
       "\\textbf{Covariance Type:}  &    nonrobust     & \\textbf{                     } &             \\\\\n",
       "\\bottomrule\n",
       "\\end{tabular}\n",
       "\\begin{tabular}{lcccccc}\n",
       "                      & \\textbf{coef} & \\textbf{std err} & \\textbf{t} & \\textbf{P$> |$t$|$} & \\textbf{[0.025} & \\textbf{0.975]}  \\\\\n",
       "\\midrule\n",
       "\\textbf{Intercept}    &      13.0435  &        0.651     &    20.036  &         0.000        &       11.764    &       14.323     \\\\\n",
       "\\textbf{Urban[T.Yes]} &      -0.0219  &        0.272     &    -0.081  &         0.936        &       -0.556    &        0.512     \\\\\n",
       "\\textbf{US[T.Yes]}    &       1.2006  &        0.259     &     4.635  &         0.000        &        0.691    &        1.710     \\\\\n",
       "\\textbf{Price}        &      -0.0545  &        0.005     &   -10.389  &         0.000        &       -0.065    &       -0.044     \\\\\n",
       "\\bottomrule\n",
       "\\end{tabular}\n",
       "\\begin{tabular}{lclc}\n",
       "\\textbf{Omnibus:}       &  0.676 & \\textbf{  Durbin-Watson:     } &    1.912  \\\\\n",
       "\\textbf{Prob(Omnibus):} &  0.713 & \\textbf{  Jarque-Bera (JB):  } &    0.758  \\\\\n",
       "\\textbf{Skew:}          &  0.093 & \\textbf{  Prob(JB):          } &    0.684  \\\\\n",
       "\\textbf{Kurtosis:}      &  2.897 & \\textbf{  Cond. No.          } &     628.  \\\\\n",
       "\\bottomrule\n",
       "\\end{tabular}\n",
       "%\\caption{OLS Regression Results}\n",
       "\\end{center}\n",
       "\n",
       "Notes: \\newline\n",
       " [1] Standard Errors assume that the covariance matrix of the errors is correctly specified."
      ],
      "text/plain": [
       "<class 'statsmodels.iolib.summary.Summary'>\n",
       "\"\"\"\n",
       "                            OLS Regression Results                            \n",
       "==============================================================================\n",
       "Dep. Variable:                  Sales   R-squared:                       0.239\n",
       "Model:                            OLS   Adj. R-squared:                  0.234\n",
       "Method:                 Least Squares   F-statistic:                     41.52\n",
       "Date:                Fri, 29 Aug 2025   Prob (F-statistic):           2.39e-23\n",
       "Time:                        11:27:33   Log-Likelihood:                -927.66\n",
       "No. Observations:                 400   AIC:                             1863.\n",
       "Df Residuals:                     396   BIC:                             1879.\n",
       "Df Model:                           3                                         \n",
       "Covariance Type:            nonrobust                                         \n",
       "================================================================================\n",
       "                   coef    std err          t      P>|t|      [0.025      0.975]\n",
       "--------------------------------------------------------------------------------\n",
       "Intercept       13.0435      0.651     20.036      0.000      11.764      14.323\n",
       "Urban[T.Yes]    -0.0219      0.272     -0.081      0.936      -0.556       0.512\n",
       "US[T.Yes]        1.2006      0.259      4.635      0.000       0.691       1.710\n",
       "Price           -0.0545      0.005    -10.389      0.000      -0.065      -0.044\n",
       "==============================================================================\n",
       "Omnibus:                        0.676   Durbin-Watson:                   1.912\n",
       "Prob(Omnibus):                  0.713   Jarque-Bera (JB):                0.758\n",
       "Skew:                           0.093   Prob(JB):                        0.684\n",
       "Kurtosis:                       2.897   Cond. No.                         628.\n",
       "==============================================================================\n",
       "\n",
       "Notes:\n",
       "[1] Standard Errors assume that the covariance matrix of the errors is correctly specified.\n",
       "\"\"\""
      ]
     },
     "execution_count": 17,
     "metadata": {},
     "output_type": "execute_result"
    }
   ],
   "source": [
    "# Build the formula for regression\n",
    "formula = 'Sales ~  + Price + Urban + US'\n",
    "# Fit the model using formula API\n",
    "model1 = ols(formula, data=carseats).fit()\n",
    "model1.summary()"
   ]
  },
  {
   "cell_type": "markdown",
   "id": "8c31d1e5-2225-4165-a8c5-1a88caaad302",
   "metadata": {},
   "source": [
    "<li> Price results to be inversely proportional to sales: keeping Urban and US constant, if we increase the price of 1 unit, the sales will decrease of roughly 0.05 (in thousands) of unit sales. \n",
    "<li> Ceteris paribus, if a store is in the US the Sales will increase by 1.2 (thousands) of unit sales.\n",
    "<li> Ceteris paribus, if a store is in an urban location it makes slightly less sales than a rural one with a difference of 0.02 (in thousands) of unit sales."
   ]
  },
  {
   "cell_type": "markdown",
   "id": "927007c9-16b9-481a-83f2-b76d15117858",
   "metadata": {},
   "source": [
    "The pvalue of the Urban variable is above the 0.05 threshold, so we cannot reject the Null hypothesis and suppose there is a connection between the predictor and the response."
   ]
  },
  {
   "cell_type": "code",
   "execution_count": 9,
   "id": "369a3923-6f7b-44a8-b51f-3012b82efee4",
   "metadata": {},
   "outputs": [
    {
     "name": "stdout",
     "output_type": "stream",
     "text": [
      "Intercept: 13.0434689367649\n",
      "Coefficients: [ 0.         -0.05445885 -0.02191615  1.2005727 ]\n"
     ]
    }
   ],
   "source": [
    "#Using sklearn\n",
    "#X_sk = carseats[['Price', 'Urban', 'US']]\n",
    "X = X[X.columns.drop('intercept')]\n",
    "model_sk = make_pipeline(PolynomialFeatures(1), LinearRegression())\n",
    "model_sk.fit(X, y)\n",
    "# Access the linear model\n",
    "linreg = model_sk.named_steps['linearregression']\n",
    "\n",
    "# Get coefficients and intercept\n",
    "print(\"Intercept:\", linreg.intercept_)\n",
    "print(\"Coefficients:\", linreg.coef_)"
   ]
  },
  {
   "cell_type": "markdown",
   "id": "bfea54c9-89b1-4809-b272-fb684c925d5d",
   "metadata": {},
   "source": [
    "Equation form of the regression:\n",
    "\\begin{equation}\n",
    "    \\textbf{Sales} = \\beta_0 + \\beta_1 * \\mathbf{price} + \n",
    "    \\begin{cases} \n",
    "    \\beta_2 \\ \\text{if in} \\ \\textbf{Urban} \\\\\n",
    "    0 \\  \\ \\text{otherwise}\n",
    "    \\end{cases} +\n",
    "    \\begin{cases} \n",
    "    \\beta_3 \\ \\text{if in the} \\ \\textbf{US} \\\\\n",
    "    0 \\  \\ \\text{otherwise}\n",
    "    \\end{cases}\n",
    "\\end{equation}\n",
    "since both **Urban** and **US** are qualitative, one-hot encoded variables. Where $\\beta_0 = 13.04$, $\\beta_1 = -0.0545$, $\\beta_2 = -0.0219$ and $\\beta_3 = 1.2006$."
   ]
  },
  {
   "cell_type": "code",
   "execution_count": null,
   "id": "7d5c7ed0-f321-4a9f-8fd1-10859ff4d455",
   "metadata": {},
   "outputs": [],
   "source": []
  },
  {
   "cell_type": "code",
   "execution_count": 10,
   "id": "6d46ed27-640c-44b4-913a-4a347d2afe01",
   "metadata": {},
   "outputs": [
    {
     "data": {
      "image/png": "[encoded data removed]",
      "text/plain": [
       "<Figure size 720x864 with 3 Axes>"
      ]
     },
     "metadata": {
      "needs_background": "light"
     },
     "output_type": "display_data"
    }
   ],
   "source": [
    "fig, axes = plt.subplots(2, 2, figsize=(10, 12))\n",
    "axes = axes.flatten()  # Flatten for easy indexing\n",
    "colors = plt.colormaps.get_cmap('tab10').resampled(len(X))\n",
    "#\n",
    "\n",
    "for i, col in enumerate(X):\n",
    "    ax = axes[i]\n",
    "    feature_range = np.linspace(X[col].min(), X[col].max(), 400).reshape(-1, 1)\n",
    "    fixed_params = X.columns.drop([col])\n",
    "    x_vals_lin = pd.DataFrame({'Price': [X['Price'].mean()] * 400,\n",
    "                                'Urban[Yes]': np.ones([len(X)]),  \n",
    "                                'US[Yes]': np.ones([len(X)])})\n",
    "    x_vals_lin[col] = feature_range\n",
    "    \n",
    "    ax.scatter(X[col], carseats['Sales'], color = colors(i), label=col)\n",
    "    ax.set_title(f'Sales vs {col}')\n",
    "    ax.set_ylabel('Sales')\n",
    "    ax.set_xlabel(col)\n",
    "    # Predict using the same transformation\n",
    "    y_pred_lin = model_sk.predict(x_vals_lin)\n",
    "    ax.plot(feature_range, y_pred_lin, 'r--', linewidth = 3)\n",
    "    \n",
    "\n",
    "# Hide any unused subplots (if you have more axes than plots)\n",
    "for j in range(i + 1, len(axes)):\n",
    "    fig.delaxes(axes[j])\n",
    "    \n",
    "plt.tight_layout()\n",
    "plt.show()"
   ]
  },
  {
   "cell_type": "code",
   "execution_count": null,
   "id": "8cd47601-aa50-4d5b-b9a0-9aaa0ffba6b5",
   "metadata": {},
   "outputs": [],
   "source": []
  },
  {
   "cell_type": "markdown",
   "id": "9d0efb2b-cf90-4ed4-b2e7-c2ca4d1ab73b",
   "metadata": {},
   "source": [
    "Due to the previous considerations we build a second model, excluding the Urban predictor."
   ]
  },
  {
   "cell_type": "code",
   "execution_count": 13,
   "id": "e4a4b419-c741-4f5a-b14d-ad5066026970",
   "metadata": {},
   "outputs": [
    {
     "data": {
      "text/html": [
       "<div>\n",
       "<style scoped>\n",
       "    .dataframe tbody tr th:only-of-type {\n",
       "        vertical-align: middle;\n",
       "    }\n",
       "\n",
       "    .dataframe tbody tr th {\n",
       "        vertical-align: top;\n",
       "    }\n",
       "\n",
       "    .dataframe thead th {\n",
       "        text-align: right;\n",
       "    }\n",
       "</style>\n",
       "<table border=\"1\" class=\"dataframe\">\n",
       "  <thead>\n",
       "    <tr style=\"text-align: right;\">\n",
       "      <th></th>\n",
       "      <th>intercept</th>\n",
       "      <th>Price</th>\n",
       "      <th>US[Yes]</th>\n",
       "    </tr>\n",
       "  </thead>\n",
       "  <tbody>\n",
       "    <tr>\n",
       "      <th>0</th>\n",
       "      <td>1.0</td>\n",
       "      <td>120</td>\n",
       "      <td>1.0</td>\n",
       "    </tr>\n",
       "    <tr>\n",
       "      <th>1</th>\n",
       "      <td>1.0</td>\n",
       "      <td>83</td>\n",
       "      <td>1.0</td>\n",
       "    </tr>\n",
       "    <tr>\n",
       "      <th>2</th>\n",
       "      <td>1.0</td>\n",
       "      <td>80</td>\n",
       "      <td>1.0</td>\n",
       "    </tr>\n",
       "    <tr>\n",
       "      <th>3</th>\n",
       "      <td>1.0</td>\n",
       "      <td>97</td>\n",
       "      <td>1.0</td>\n",
       "    </tr>\n",
       "    <tr>\n",
       "      <th>4</th>\n",
       "      <td>1.0</td>\n",
       "      <td>128</td>\n",
       "      <td>0.0</td>\n",
       "    </tr>\n",
       "    <tr>\n",
       "      <th>...</th>\n",
       "      <td>...</td>\n",
       "      <td>...</td>\n",
       "      <td>...</td>\n",
       "    </tr>\n",
       "    <tr>\n",
       "      <th>395</th>\n",
       "      <td>1.0</td>\n",
       "      <td>128</td>\n",
       "      <td>1.0</td>\n",
       "    </tr>\n",
       "    <tr>\n",
       "      <th>396</th>\n",
       "      <td>1.0</td>\n",
       "      <td>120</td>\n",
       "      <td>1.0</td>\n",
       "    </tr>\n",
       "    <tr>\n",
       "      <th>397</th>\n",
       "      <td>1.0</td>\n",
       "      <td>159</td>\n",
       "      <td>1.0</td>\n",
       "    </tr>\n",
       "    <tr>\n",
       "      <th>398</th>\n",
       "      <td>1.0</td>\n",
       "      <td>95</td>\n",
       "      <td>1.0</td>\n",
       "    </tr>\n",
       "    <tr>\n",
       "      <th>399</th>\n",
       "      <td>1.0</td>\n",
       "      <td>120</td>\n",
       "      <td>1.0</td>\n",
       "    </tr>\n",
       "  </tbody>\n",
       "</table>\n",
       "<p>400 rows × 3 columns</p>\n",
       "</div>"
      ],
      "text/plain": [
       "     intercept  Price  US[Yes]\n",
       "0          1.0    120      1.0\n",
       "1          1.0     83      1.0\n",
       "2          1.0     80      1.0\n",
       "3          1.0     97      1.0\n",
       "4          1.0    128      0.0\n",
       "..         ...    ...      ...\n",
       "395        1.0    128      1.0\n",
       "396        1.0    120      1.0\n",
       "397        1.0    159      1.0\n",
       "398        1.0     95      1.0\n",
       "399        1.0    120      1.0\n",
       "\n",
       "[400 rows x 3 columns]"
      ]
     },
     "execution_count": 13,
     "metadata": {},
     "output_type": "execute_result"
    }
   ],
   "source": [
    "X2 = MS(['Price', 'US']).fit_transform(carseats)\n",
    "X2"
   ]
  },
  {
   "cell_type": "code",
   "execution_count": 18,
   "id": "1a7b7e62-dc88-48e1-8e83-e8b49a9b7d90",
   "metadata": {},
   "outputs": [
    {
     "data": {
      "text/html": [
       "<table class=\"simpletable\">\n",
       "<caption>OLS Regression Results</caption>\n",
       "<tr>\n",
       "  <th>Dep. Variable:</th>          <td>Sales</td>      <th>  R-squared:         </th> <td>   0.239</td>\n",
       "</tr>\n",
       "<tr>\n",
       "  <th>Model:</th>                   <td>OLS</td>       <th>  Adj. R-squared:    </th> <td>   0.235</td>\n",
       "</tr>\n",
       "<tr>\n",
       "  <th>Method:</th>             <td>Least Squares</td>  <th>  F-statistic:       </th> <td>   62.43</td>\n",
       "</tr>\n",
       "<tr>\n",
       "  <th>Date:</th>             <td>Fri, 29 Aug 2025</td> <th>  Prob (F-statistic):</th> <td>2.66e-24</td>\n",
       "</tr>\n",
       "<tr>\n",
       "  <th>Time:</th>                 <td>11:28:10</td>     <th>  Log-Likelihood:    </th> <td> -927.66</td>\n",
       "</tr>\n",
       "<tr>\n",
       "  <th>No. Observations:</th>      <td>   400</td>      <th>  AIC:               </th> <td>   1861.</td>\n",
       "</tr>\n",
       "<tr>\n",
       "  <th>Df Residuals:</th>          <td>   397</td>      <th>  BIC:               </th> <td>   1873.</td>\n",
       "</tr>\n",
       "<tr>\n",
       "  <th>Df Model:</th>              <td>     2</td>      <th>                     </th>     <td> </td>   \n",
       "</tr>\n",
       "<tr>\n",
       "  <th>Covariance Type:</th>      <td>nonrobust</td>    <th>                     </th>     <td> </td>   \n",
       "</tr>\n",
       "</table>\n",
       "<table class=\"simpletable\">\n",
       "<tr>\n",
       "      <td></td>         <th>coef</th>     <th>std err</th>      <th>t</th>      <th>P>|t|</th>  <th>[0.025</th>    <th>0.975]</th>  \n",
       "</tr>\n",
       "<tr>\n",
       "  <th>Intercept</th> <td>   13.0308</td> <td>    0.631</td> <td>   20.652</td> <td> 0.000</td> <td>   11.790</td> <td>   14.271</td>\n",
       "</tr>\n",
       "<tr>\n",
       "  <th>US[T.Yes]</th> <td>    1.1996</td> <td>    0.258</td> <td>    4.641</td> <td> 0.000</td> <td>    0.692</td> <td>    1.708</td>\n",
       "</tr>\n",
       "<tr>\n",
       "  <th>Price</th>     <td>   -0.0545</td> <td>    0.005</td> <td>  -10.416</td> <td> 0.000</td> <td>   -0.065</td> <td>   -0.044</td>\n",
       "</tr>\n",
       "</table>\n",
       "<table class=\"simpletable\">\n",
       "<tr>\n",
       "  <th>Omnibus:</th>       <td> 0.666</td> <th>  Durbin-Watson:     </th> <td>   1.912</td>\n",
       "</tr>\n",
       "<tr>\n",
       "  <th>Prob(Omnibus):</th> <td> 0.717</td> <th>  Jarque-Bera (JB):  </th> <td>   0.749</td>\n",
       "</tr>\n",
       "<tr>\n",
       "  <th>Skew:</th>          <td> 0.092</td> <th>  Prob(JB):          </th> <td>   0.688</td>\n",
       "</tr>\n",
       "<tr>\n",
       "  <th>Kurtosis:</th>      <td> 2.895</td> <th>  Cond. No.          </th> <td>    607.</td>\n",
       "</tr>\n",
       "</table><br/><br/>Notes:<br/>[1] Standard Errors assume that the covariance matrix of the errors is correctly specified."
      ],
      "text/latex": [
       "\\begin{center}\n",
       "\\begin{tabular}{lclc}\n",
       "\\toprule\n",
       "\\textbf{Dep. Variable:}    &      Sales       & \\textbf{  R-squared:         } &     0.239   \\\\\n",
       "\\textbf{Model:}            &       OLS        & \\textbf{  Adj. R-squared:    } &     0.235   \\\\\n",
       "\\textbf{Method:}           &  Least Squares   & \\textbf{  F-statistic:       } &     62.43   \\\\\n",
       "\\textbf{Date:}             & Fri, 29 Aug 2025 & \\textbf{  Prob (F-statistic):} &  2.66e-24   \\\\\n",
       "\\textbf{Time:}             &     11:28:10     & \\textbf{  Log-Likelihood:    } &   -927.66   \\\\\n",
       "\\textbf{No. Observations:} &         400      & \\textbf{  AIC:               } &     1861.   \\\\\n",
       "\\textbf{Df Residuals:}     &         397      & \\textbf{  BIC:               } &     1873.   \\\\\n",
       "\\textbf{Df Model:}         &           2      & \\textbf{                     } &             \\\\\n",
       "\\textbf{Covariance Type:}  &    nonrobust     & \\textbf{                     } &             \\\\\n",
       "\\bottomrule\n",
       "\\end{tabular}\n",
       "\\begin{tabular}{lcccccc}\n",
       "                   & \\textbf{coef} & \\textbf{std err} & \\textbf{t} & \\textbf{P$> |$t$|$} & \\textbf{[0.025} & \\textbf{0.975]}  \\\\\n",
       "\\midrule\n",
       "\\textbf{Intercept} &      13.0308  &        0.631     &    20.652  &         0.000        &       11.790    &       14.271     \\\\\n",
       "\\textbf{US[T.Yes]} &       1.1996  &        0.258     &     4.641  &         0.000        &        0.692    &        1.708     \\\\\n",
       "\\textbf{Price}     &      -0.0545  &        0.005     &   -10.416  &         0.000        &       -0.065    &       -0.044     \\\\\n",
       "\\bottomrule\n",
       "\\end{tabular}\n",
       "\\begin{tabular}{lclc}\n",
       "\\textbf{Omnibus:}       &  0.666 & \\textbf{  Durbin-Watson:     } &    1.912  \\\\\n",
       "\\textbf{Prob(Omnibus):} &  0.717 & \\textbf{  Jarque-Bera (JB):  } &    0.749  \\\\\n",
       "\\textbf{Skew:}          &  0.092 & \\textbf{  Prob(JB):          } &    0.688  \\\\\n",
       "\\textbf{Kurtosis:}      &  2.895 & \\textbf{  Cond. No.          } &     607.  \\\\\n",
       "\\bottomrule\n",
       "\\end{tabular}\n",
       "%\\caption{OLS Regression Results}\n",
       "\\end{center}\n",
       "\n",
       "Notes: \\newline\n",
       " [1] Standard Errors assume that the covariance matrix of the errors is correctly specified."
      ],
      "text/plain": [
       "<class 'statsmodels.iolib.summary.Summary'>\n",
       "\"\"\"\n",
       "                            OLS Regression Results                            \n",
       "==============================================================================\n",
       "Dep. Variable:                  Sales   R-squared:                       0.239\n",
       "Model:                            OLS   Adj. R-squared:                  0.235\n",
       "Method:                 Least Squares   F-statistic:                     62.43\n",
       "Date:                Fri, 29 Aug 2025   Prob (F-statistic):           2.66e-24\n",
       "Time:                        11:28:10   Log-Likelihood:                -927.66\n",
       "No. Observations:                 400   AIC:                             1861.\n",
       "Df Residuals:                     397   BIC:                             1873.\n",
       "Df Model:                           2                                         \n",
       "Covariance Type:            nonrobust                                         \n",
       "==============================================================================\n",
       "                 coef    std err          t      P>|t|      [0.025      0.975]\n",
       "------------------------------------------------------------------------------\n",
       "Intercept     13.0308      0.631     20.652      0.000      11.790      14.271\n",
       "US[T.Yes]      1.1996      0.258      4.641      0.000       0.692       1.708\n",
       "Price         -0.0545      0.005    -10.416      0.000      -0.065      -0.044\n",
       "==============================================================================\n",
       "Omnibus:                        0.666   Durbin-Watson:                   1.912\n",
       "Prob(Omnibus):                  0.717   Jarque-Bera (JB):                0.749\n",
       "Skew:                           0.092   Prob(JB):                        0.688\n",
       "Kurtosis:                       2.895   Cond. No.                         607.\n",
       "==============================================================================\n",
       "\n",
       "Notes:\n",
       "[1] Standard Errors assume that the covariance matrix of the errors is correctly specified.\n",
       "\"\"\""
      ]
     },
     "execution_count": 18,
     "metadata": {},
     "output_type": "execute_result"
    }
   ],
   "source": [
    "# Build the formula for regression\n",
    "formula_red = 'Sales ~  + Price + US'\n",
    "# Fit the model using formula API\n",
    "model2 = ols(formula_red, data=carseats).fit()\n",
    "model2.summary()"
   ]
  },
  {
   "cell_type": "code",
   "execution_count": 19,
   "id": "a88908b3-6d9e-4bb3-8571-36e564adf2ef",
   "metadata": {},
   "outputs": [
    {
     "name": "stdout",
     "output_type": "stream",
     "text": [
      "AIC difference: -1.9934253976366563\n",
      "BIC difference: -5.984889944744509\n"
     ]
    }
   ],
   "source": [
    "print(\"AIC difference:\", model2.aic - model1.aic)\n",
    "print(\"BIC difference:\", model2.bic - model1.bic)"
   ]
  },
  {
   "cell_type": "markdown",
   "id": "147863ec-18af-4e18-94ac-f15a273faa95",
   "metadata": {},
   "source": [
    "The new model is simpler without changing much the performances (slight improvement)."
   ]
  },
  {
   "cell_type": "code",
   "execution_count": null,
   "id": "071aa5a8-70c5-4501-bcf7-699b152cea05",
   "metadata": {},
   "outputs": [],
   "source": []
  },
  {
   "cell_type": "code",
   "execution_count": 22,
   "id": "4829717b-58da-4db1-853a-d7bacc194ff0",
   "metadata": {},
   "outputs": [
    {
     "name": "stdout",
     "output_type": "stream",
     "text": [
      "                  0          1\n",
      "Intercept  11.79032  14.271265\n",
      "US[T.Yes]   0.69152   1.707766\n",
      "Price      -0.06476  -0.044195\n"
     ]
    }
   ],
   "source": [
    "# Computes the confidence intervals\n",
    "print(model2.conf_int(alpha=0.05))"
   ]
  },
  {
   "cell_type": "code",
   "execution_count": null,
   "id": "3028cbbe-0cc7-4fda-be0a-ae41c74f1d93",
   "metadata": {},
   "outputs": [],
   "source": []
  },
  {
   "cell_type": "code",
   "execution_count": 23,
   "id": "a6f81621-717e-45af-a3d3-ff7e86d0de75",
   "metadata": {},
   "outputs": [
    {
     "data": {
      "image/png": "[encoded data removed]",
      "text/plain": [
       "<Figure size 576x576 with 1 Axes>"
      ]
     },
     "metadata": {
      "needs_background": "light"
     },
     "output_type": "display_data"
    }
   ],
   "source": [
    "ax = plt.subplots(figsize=(8,8))[1]\n",
    "ax.scatter(model2.fittedvalues , model2.resid)\n",
    "#ax.scatter(result_all.fittedvalues.iloc[highlight_idx] , result_all.resid.iloc[highlight_idx], color='cyan', s=100, label=f'Index {highlight_idx}')\n",
    "ax.set_xlabel('Fitted value')\n",
    "ax.set_ylabel('Residual')\n",
    "ax.axhline(0, c='k', ls='--');"
   ]
  },
  {
   "cell_type": "code",
   "execution_count": 24,
   "id": "3460d72b-992f-4e41-8957-f2d2eb26fa83",
   "metadata": {},
   "outputs": [
    {
     "data": {
      "text/plain": [
       "42"
      ]
     },
     "execution_count": 24,
     "metadata": {},
     "output_type": "execute_result"
    },
    {
     "data": {
      "image/png": "[encoded data removed]",
      "text/plain": [
       "<Figure size 576x576 with 1 Axes>"
      ]
     },
     "metadata": {
      "needs_background": "light"
     },
     "output_type": "display_data"
    }
   ],
   "source": [
    "infl_all = model2.get_influence()\n",
    "ax = plt.subplots(figsize=(8,8))[1]\n",
    "#Leverage statistics can be computed for any number of predictors using the hat_matrix_diag attribute of the value returned by the get_influence() method.\n",
    "ax.scatter(np.arange(X2.shape[0]), infl_all.hat_matrix_diag)\n",
    "#ax.scatter(np.arange(X2.shape[0])[highlight_idx] , infl_all.hat_matrix_diag[highlight_idx], color='cyan', s=100, label=f'Index {highlight_idx}')\n",
    "ax.set_xlabel('Index')\n",
    "ax.set_ylabel('Leverage')\n",
    "# maximized over the entire array to determine which observation has the largest leverage statistic.\n",
    "np.argmax(infl_all.hat_matrix_diag)"
   ]
  },
  {
   "cell_type": "code",
   "execution_count": 25,
   "id": "ddd87cdf-77fc-4922-99ec-b69d02cb3a26",
   "metadata": {},
   "outputs": [
    {
     "name": "stdout",
     "output_type": "stream",
     "text": [
      "High leverage points (index positions): [ 42 125 155 156 159 165 171 174 191 203 208 269 272 313 315 356 365 367\n",
      " 383 386]\n",
      "Leverage values of these points: [0.04333766 0.02596614 0.01610616 0.01535558 0.01570737 0.02856661\n",
      " 0.02101401 0.02968672 0.0180391  0.01535558 0.01823472 0.01919494\n",
      " 0.01868734 0.0231647  0.01704881 0.01827894 0.01739884 0.02370705\n",
      " 0.01651393 0.01655462]\n"
     ]
    }
   ],
   "source": [
    "n = X2.shape[0]\n",
    "p = X2.shape[1] - 1  # subtract intercept\n",
    "leverage = infl_all.hat_matrix_diag\n",
    "\n",
    "leverage_threshold = 2 * (p + 1) / n\n",
    "high_leverage_points = np.where(leverage > leverage_threshold)[0]\n",
    "\n",
    "print(\"High leverage points (index positions):\", high_leverage_points)\n",
    "print(\"Leverage values of these points:\", leverage[high_leverage_points])"
   ]
  },
  {
   "cell_type": "code",
   "execution_count": 26,
   "id": "3827ef2d-3da1-4211-9dd0-71556b7ee8cf",
   "metadata": {},
   "outputs": [
    {
     "name": "stdout",
     "output_type": "stream",
     "text": [
      "High residual points (indices): [ 17  25  28  30  49  50  57  62  68  82  98 106 143 209 258 297 298 304\n",
      " 316 328 352 376 395]\n",
      "Studentized residuals of these points: [ 2.11850399  2.59965175 -2.43374524  2.19494228  2.33437613 -2.83584311\n",
      " -2.34878813 -2.10592255  2.64236365  2.02335944  2.11065036 -2.1662848\n",
      " -2.06096069 -2.58158616 -2.10634988 -2.24156887  2.05414267  2.03794216\n",
      "  2.17940209 -2.05066437  2.3901782   2.89152132  2.16621032]\n"
     ]
    }
   ],
   "source": [
    "#Raw residuals aren't always directly comparable across data points because they may have different variances. So instead, we use:\n",
    "# Standardized residuals: residuals divided by their estimated standard deviation.\n",
    "# Studentized residuals: similar but better for detecting outliers, especially when leverage varies.\n",
    "\n",
    "studentized_residuals = infl_all.resid_studentized_external\n",
    "high_resid_points = np.where(np.abs(studentized_residuals) > 2)[0]\n",
    "\n",
    "print(\"High residual points (indices):\", high_resid_points)\n",
    "print(\"Studentized residuals of these points:\", studentized_residuals[high_resid_points])"
   ]
  },
  {
   "cell_type": "code",
   "execution_count": 27,
   "id": "c7acd23f-c111-42df-9a5e-0c999d21ae1f",
   "metadata": {},
   "outputs": [
    {
     "name": "stdout",
     "output_type": "stream",
     "text": [
      "High leverage and residual points (indices): []\n"
     ]
    }
   ],
   "source": [
    "high_lev_and_res = np.intersect1d(high_leverage_points, high_resid_points)\n",
    "print(\"High leverage and residual points (indices):\", high_lev_and_res)"
   ]
  },
  {
   "cell_type": "markdown",
   "id": "bc608e67-93fd-40da-8884-b1056503770f",
   "metadata": {},
   "source": [
    "There are no points with both an high leverage and an high residue."
   ]
  },
  {
   "cell_type": "markdown",
   "id": "7ef109f4-5e79-4a55-b93b-ff8e64d50426",
   "metadata": {},
   "source": [
    "![lev_res.PNG](./lev_res.PNG)"
   ]
  }
 ],
 "metadata": {
  "kernelspec": {
   "display_name": "Python 3 (ipykernel)",
   "language": "python",
   "name": "python3"
  },
  "language_info": {
   "codemirror_mode": {
    "name": "ipython",
    "version": 3
   },
   "file_extension": ".py",
   "mimetype": "text/x-python",
   "name": "python",
   "nbconvert_exporter": "python",
   "pygments_lexer": "ipython3",
   "version": "3.11.0"
  }
 },
 "nbformat": 4,
 "nbformat_minor": 5
}
