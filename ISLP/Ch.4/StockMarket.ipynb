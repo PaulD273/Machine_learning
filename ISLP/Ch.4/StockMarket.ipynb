{
 "cells": [
  {
   "cell_type": "code",
   "execution_count": 1,
   "id": "aae1e32a-8f2d-4d5b-b776-d7f912cd6b6a",
   "metadata": {},
   "outputs": [],
   "source": [
    "import numpy as np\n",
    "import pandas as pd\n",
    "import matplotlib.pyplot as plt\n",
    "import statsmodels.api as sm\n",
    "from ISLP import load_data\n",
    "from ISLP.models import (ModelSpec as MS,summarize)"
   ]
  },
  {
   "cell_type": "code",
   "execution_count": 2,
   "id": "d8fa0799-1b39-45d1-be62-dc8481d3e9d1",
   "metadata": {},
   "outputs": [],
   "source": [
    "from ISLP import confusion_table\n",
    "from ISLP.models import contrast\n",
    "from sklearn.discriminant_analysis import (LinearDiscriminantAnalysis as LDA , QuadraticDiscriminantAnalysis as QDA)\n",
    "from sklearn.naive_bayes import GaussianNB\n",
    "from sklearn.neighbors import KNeighborsClassifier\n",
    "from sklearn.preprocessing import StandardScaler\n",
    "from sklearn.model_selection import train_test_split\n",
    "from sklearn.linear_model import LogisticRegression"
   ]
  },
  {
   "cell_type": "code",
   "execution_count": 3,
   "id": "ecf78676-33a0-44ca-a175-848b1f8b43ac",
   "metadata": {},
   "outputs": [
    {
     "data": {
      "text/html": [
       "<div>\n",
       "<style scoped>\n",
       "    .dataframe tbody tr th:only-of-type {\n",
       "        vertical-align: middle;\n",
       "    }\n",
       "\n",
       "    .dataframe tbody tr th {\n",
       "        vertical-align: top;\n",
       "    }\n",
       "\n",
       "    .dataframe thead th {\n",
       "        text-align: right;\n",
       "    }\n",
       "</style>\n",
       "<table border=\"1\" class=\"dataframe\">\n",
       "  <thead>\n",
       "    <tr style=\"text-align: right;\">\n",
       "      <th></th>\n",
       "      <th>Year</th>\n",
       "      <th>Lag1</th>\n",
       "      <th>Lag2</th>\n",
       "      <th>Lag3</th>\n",
       "      <th>Lag4</th>\n",
       "      <th>Lag5</th>\n",
       "      <th>Volume</th>\n",
       "      <th>Today</th>\n",
       "      <th>Direction</th>\n",
       "    </tr>\n",
       "  </thead>\n",
       "  <tbody>\n",
       "    <tr>\n",
       "      <th>0</th>\n",
       "      <td>2001</td>\n",
       "      <td>0.381</td>\n",
       "      <td>-0.192</td>\n",
       "      <td>-2.624</td>\n",
       "      <td>-1.055</td>\n",
       "      <td>5.010</td>\n",
       "      <td>1.19130</td>\n",
       "      <td>0.959</td>\n",
       "      <td>Up</td>\n",
       "    </tr>\n",
       "    <tr>\n",
       "      <th>1</th>\n",
       "      <td>2001</td>\n",
       "      <td>0.959</td>\n",
       "      <td>0.381</td>\n",
       "      <td>-0.192</td>\n",
       "      <td>-2.624</td>\n",
       "      <td>-1.055</td>\n",
       "      <td>1.29650</td>\n",
       "      <td>1.032</td>\n",
       "      <td>Up</td>\n",
       "    </tr>\n",
       "    <tr>\n",
       "      <th>2</th>\n",
       "      <td>2001</td>\n",
       "      <td>1.032</td>\n",
       "      <td>0.959</td>\n",
       "      <td>0.381</td>\n",
       "      <td>-0.192</td>\n",
       "      <td>-2.624</td>\n",
       "      <td>1.41120</td>\n",
       "      <td>-0.623</td>\n",
       "      <td>Down</td>\n",
       "    </tr>\n",
       "    <tr>\n",
       "      <th>3</th>\n",
       "      <td>2001</td>\n",
       "      <td>-0.623</td>\n",
       "      <td>1.032</td>\n",
       "      <td>0.959</td>\n",
       "      <td>0.381</td>\n",
       "      <td>-0.192</td>\n",
       "      <td>1.27600</td>\n",
       "      <td>0.614</td>\n",
       "      <td>Up</td>\n",
       "    </tr>\n",
       "    <tr>\n",
       "      <th>4</th>\n",
       "      <td>2001</td>\n",
       "      <td>0.614</td>\n",
       "      <td>-0.623</td>\n",
       "      <td>1.032</td>\n",
       "      <td>0.959</td>\n",
       "      <td>0.381</td>\n",
       "      <td>1.20570</td>\n",
       "      <td>0.213</td>\n",
       "      <td>Up</td>\n",
       "    </tr>\n",
       "    <tr>\n",
       "      <th>...</th>\n",
       "      <td>...</td>\n",
       "      <td>...</td>\n",
       "      <td>...</td>\n",
       "      <td>...</td>\n",
       "      <td>...</td>\n",
       "      <td>...</td>\n",
       "      <td>...</td>\n",
       "      <td>...</td>\n",
       "      <td>...</td>\n",
       "    </tr>\n",
       "    <tr>\n",
       "      <th>1245</th>\n",
       "      <td>2005</td>\n",
       "      <td>0.422</td>\n",
       "      <td>0.252</td>\n",
       "      <td>-0.024</td>\n",
       "      <td>-0.584</td>\n",
       "      <td>-0.285</td>\n",
       "      <td>1.88850</td>\n",
       "      <td>0.043</td>\n",
       "      <td>Up</td>\n",
       "    </tr>\n",
       "    <tr>\n",
       "      <th>1246</th>\n",
       "      <td>2005</td>\n",
       "      <td>0.043</td>\n",
       "      <td>0.422</td>\n",
       "      <td>0.252</td>\n",
       "      <td>-0.024</td>\n",
       "      <td>-0.584</td>\n",
       "      <td>1.28581</td>\n",
       "      <td>-0.955</td>\n",
       "      <td>Down</td>\n",
       "    </tr>\n",
       "    <tr>\n",
       "      <th>1247</th>\n",
       "      <td>2005</td>\n",
       "      <td>-0.955</td>\n",
       "      <td>0.043</td>\n",
       "      <td>0.422</td>\n",
       "      <td>0.252</td>\n",
       "      <td>-0.024</td>\n",
       "      <td>1.54047</td>\n",
       "      <td>0.130</td>\n",
       "      <td>Up</td>\n",
       "    </tr>\n",
       "    <tr>\n",
       "      <th>1248</th>\n",
       "      <td>2005</td>\n",
       "      <td>0.130</td>\n",
       "      <td>-0.955</td>\n",
       "      <td>0.043</td>\n",
       "      <td>0.422</td>\n",
       "      <td>0.252</td>\n",
       "      <td>1.42236</td>\n",
       "      <td>-0.298</td>\n",
       "      <td>Down</td>\n",
       "    </tr>\n",
       "    <tr>\n",
       "      <th>1249</th>\n",
       "      <td>2005</td>\n",
       "      <td>-0.298</td>\n",
       "      <td>0.130</td>\n",
       "      <td>-0.955</td>\n",
       "      <td>0.043</td>\n",
       "      <td>0.422</td>\n",
       "      <td>1.38254</td>\n",
       "      <td>-0.489</td>\n",
       "      <td>Down</td>\n",
       "    </tr>\n",
       "  </tbody>\n",
       "</table>\n",
       "<p>1250 rows × 9 columns</p>\n",
       "</div>"
      ],
      "text/plain": [
       "      Year   Lag1   Lag2   Lag3   Lag4   Lag5   Volume  Today Direction\n",
       "0     2001  0.381 -0.192 -2.624 -1.055  5.010  1.19130  0.959        Up\n",
       "1     2001  0.959  0.381 -0.192 -2.624 -1.055  1.29650  1.032        Up\n",
       "2     2001  1.032  0.959  0.381 -0.192 -2.624  1.41120 -0.623      Down\n",
       "3     2001 -0.623  1.032  0.959  0.381 -0.192  1.27600  0.614        Up\n",
       "4     2001  0.614 -0.623  1.032  0.959  0.381  1.20570  0.213        Up\n",
       "...    ...    ...    ...    ...    ...    ...      ...    ...       ...\n",
       "1245  2005  0.422  0.252 -0.024 -0.584 -0.285  1.88850  0.043        Up\n",
       "1246  2005  0.043  0.422  0.252 -0.024 -0.584  1.28581 -0.955      Down\n",
       "1247  2005 -0.955  0.043  0.422  0.252 -0.024  1.54047  0.130        Up\n",
       "1248  2005  0.130 -0.955  0.043  0.422  0.252  1.42236 -0.298      Down\n",
       "1249  2005 -0.298  0.130 -0.955  0.043  0.422  1.38254 -0.489      Down\n",
       "\n",
       "[1250 rows x 9 columns]"
      ]
     },
     "execution_count": 3,
     "metadata": {},
     "output_type": "execute_result"
    }
   ],
   "source": [
    "Smarket = load_data('Smarket')\n",
    "Smarket"
   ]
  },
  {
   "cell_type": "code",
   "execution_count": 4,
   "id": "1fd15cd1-aea3-4b65-af68-3e7dfff4602f",
   "metadata": {},
   "outputs": [
    {
     "data": {
      "text/plain": [
       "Index(['Year', 'Lag1', 'Lag2', 'Lag3', 'Lag4', 'Lag5', 'Volume', 'Today',\n",
       "       'Direction'],\n",
       "      dtype='object')"
      ]
     },
     "execution_count": 4,
     "metadata": {},
     "output_type": "execute_result"
    }
   ],
   "source": [
    "Smarket.columns"
   ]
  },
  {
   "cell_type": "raw",
   "id": "184e3d4a-d87d-4637-a6c9-1ee97c025851",
   "metadata": {},
   "source": [
    "Year: The year that the observation was recorded\n",
    "\n",
    "Lag1: Percentage return for previous day\n",
    "\n",
    "Lag2: Percentage return for 2 days previous\n",
    "\n",
    "Lag3: Percentage return for 3 days previous\n",
    "\n",
    "Lag4: Percentage return for 4 days previous\n",
    "\n",
    "Lag5: Percentage return for 5 days previous\n",
    "\n",
    "Volume: Volume of shares traded (number of daily shares traded in billions)\n",
    "\n",
    "Today: Percentage return for today\n",
    "\n",
    "Direction: A factor with levels ‘Down’ and ‘Up’ indicating whether the market had a positive or negative return on a given day"
   ]
  },
  {
   "cell_type": "code",
   "execution_count": 5,
   "id": "6767d58e-d14e-4673-8e62-d11b8fef262d",
   "metadata": {},
   "outputs": [
    {
     "data": {
      "text/html": [
       "<div>\n",
       "<style scoped>\n",
       "    .dataframe tbody tr th:only-of-type {\n",
       "        vertical-align: middle;\n",
       "    }\n",
       "\n",
       "    .dataframe tbody tr th {\n",
       "        vertical-align: top;\n",
       "    }\n",
       "\n",
       "    .dataframe thead th {\n",
       "        text-align: right;\n",
       "    }\n",
       "</style>\n",
       "<table border=\"1\" class=\"dataframe\">\n",
       "  <thead>\n",
       "    <tr style=\"text-align: right;\">\n",
       "      <th></th>\n",
       "      <th>Year</th>\n",
       "      <th>Lag1</th>\n",
       "      <th>Lag2</th>\n",
       "      <th>Lag3</th>\n",
       "      <th>Lag4</th>\n",
       "      <th>Lag5</th>\n",
       "      <th>Volume</th>\n",
       "      <th>Today</th>\n",
       "    </tr>\n",
       "  </thead>\n",
       "  <tbody>\n",
       "    <tr>\n",
       "      <th>Year</th>\n",
       "      <td>1.000000</td>\n",
       "      <td>0.029700</td>\n",
       "      <td>0.030596</td>\n",
       "      <td>0.033195</td>\n",
       "      <td>0.035689</td>\n",
       "      <td>0.029788</td>\n",
       "      <td>0.539006</td>\n",
       "      <td>0.030095</td>\n",
       "    </tr>\n",
       "    <tr>\n",
       "      <th>Lag1</th>\n",
       "      <td>0.029700</td>\n",
       "      <td>1.000000</td>\n",
       "      <td>-0.026294</td>\n",
       "      <td>-0.010803</td>\n",
       "      <td>-0.002986</td>\n",
       "      <td>-0.005675</td>\n",
       "      <td>0.040910</td>\n",
       "      <td>-0.026155</td>\n",
       "    </tr>\n",
       "    <tr>\n",
       "      <th>Lag2</th>\n",
       "      <td>0.030596</td>\n",
       "      <td>-0.026294</td>\n",
       "      <td>1.000000</td>\n",
       "      <td>-0.025897</td>\n",
       "      <td>-0.010854</td>\n",
       "      <td>-0.003558</td>\n",
       "      <td>-0.043383</td>\n",
       "      <td>-0.010250</td>\n",
       "    </tr>\n",
       "    <tr>\n",
       "      <th>Lag3</th>\n",
       "      <td>0.033195</td>\n",
       "      <td>-0.010803</td>\n",
       "      <td>-0.025897</td>\n",
       "      <td>1.000000</td>\n",
       "      <td>-0.024051</td>\n",
       "      <td>-0.018808</td>\n",
       "      <td>-0.041824</td>\n",
       "      <td>-0.002448</td>\n",
       "    </tr>\n",
       "    <tr>\n",
       "      <th>Lag4</th>\n",
       "      <td>0.035689</td>\n",
       "      <td>-0.002986</td>\n",
       "      <td>-0.010854</td>\n",
       "      <td>-0.024051</td>\n",
       "      <td>1.000000</td>\n",
       "      <td>-0.027084</td>\n",
       "      <td>-0.048414</td>\n",
       "      <td>-0.006900</td>\n",
       "    </tr>\n",
       "    <tr>\n",
       "      <th>Lag5</th>\n",
       "      <td>0.029788</td>\n",
       "      <td>-0.005675</td>\n",
       "      <td>-0.003558</td>\n",
       "      <td>-0.018808</td>\n",
       "      <td>-0.027084</td>\n",
       "      <td>1.000000</td>\n",
       "      <td>-0.022002</td>\n",
       "      <td>-0.034860</td>\n",
       "    </tr>\n",
       "    <tr>\n",
       "      <th>Volume</th>\n",
       "      <td>0.539006</td>\n",
       "      <td>0.040910</td>\n",
       "      <td>-0.043383</td>\n",
       "      <td>-0.041824</td>\n",
       "      <td>-0.048414</td>\n",
       "      <td>-0.022002</td>\n",
       "      <td>1.000000</td>\n",
       "      <td>0.014592</td>\n",
       "    </tr>\n",
       "    <tr>\n",
       "      <th>Today</th>\n",
       "      <td>0.030095</td>\n",
       "      <td>-0.026155</td>\n",
       "      <td>-0.010250</td>\n",
       "      <td>-0.002448</td>\n",
       "      <td>-0.006900</td>\n",
       "      <td>-0.034860</td>\n",
       "      <td>0.014592</td>\n",
       "      <td>1.000000</td>\n",
       "    </tr>\n",
       "  </tbody>\n",
       "</table>\n",
       "</div>"
      ],
      "text/plain": [
       "            Year      Lag1      Lag2      Lag3      Lag4      Lag5    Volume  \\\n",
       "Year    1.000000  0.029700  0.030596  0.033195  0.035689  0.029788  0.539006   \n",
       "Lag1    0.029700  1.000000 -0.026294 -0.010803 -0.002986 -0.005675  0.040910   \n",
       "Lag2    0.030596 -0.026294  1.000000 -0.025897 -0.010854 -0.003558 -0.043383   \n",
       "Lag3    0.033195 -0.010803 -0.025897  1.000000 -0.024051 -0.018808 -0.041824   \n",
       "Lag4    0.035689 -0.002986 -0.010854 -0.024051  1.000000 -0.027084 -0.048414   \n",
       "Lag5    0.029788 -0.005675 -0.003558 -0.018808 -0.027084  1.000000 -0.022002   \n",
       "Volume  0.539006  0.040910 -0.043383 -0.041824 -0.048414 -0.022002  1.000000   \n",
       "Today   0.030095 -0.026155 -0.010250 -0.002448 -0.006900 -0.034860  0.014592   \n",
       "\n",
       "           Today  \n",
       "Year    0.030095  \n",
       "Lag1   -0.026155  \n",
       "Lag2   -0.010250  \n",
       "Lag3   -0.002448  \n",
       "Lag4   -0.006900  \n",
       "Lag5   -0.034860  \n",
       "Volume  0.014592  \n",
       "Today   1.000000  "
      ]
     },
     "execution_count": 5,
     "metadata": {},
     "output_type": "execute_result"
    }
   ],
   "source": [
    "Smarket[Smarket.columns.drop('Direction')].corr()"
   ]
  },
  {
   "cell_type": "markdown",
   "id": "63b516b9-846e-484f-ae7b-0189171c389e",
   "metadata": {},
   "source": [
    "As one would expect, the correlations between the lagged return variables\n",
    "and today’s return are close to zero. The only substantial correlation is\n",
    "between Year and Volume. By plotting the data we see that Volume is increasing\n",
    "over time. In other words, the average number of shares traded\n",
    "daily increased from 2001 to 2005."
   ]
  },
  {
   "cell_type": "code",
   "execution_count": 6,
   "id": "4dcfe2ec-0c26-4ff5-b7aa-85ef43e09834",
   "metadata": {},
   "outputs": [
    {
     "data": {
      "image/png": "[encoded data removed]",
      "text/plain": [
       "<Figure size 432x288 with 1 Axes>"
      ]
     },
     "metadata": {
      "needs_background": "light"
     },
     "output_type": "display_data"
    }
   ],
   "source": [
    "vol = Smarket['Volume']\n",
    "year = Smarket['Year']\n",
    "plt.scatter(year, vol)\n",
    "plt.show()"
   ]
  },
  {
   "cell_type": "code",
   "execution_count": 7,
   "id": "44269383-ae0a-4b85-a1d5-1ab8068ae714",
   "metadata": {},
   "outputs": [
    {
     "data": {
      "image/png": "[encoded data removed]",
      "text/plain": [
       "<Figure size 432x288 with 1 Axes>"
      ]
     },
     "metadata": {
      "needs_background": "light"
     },
     "output_type": "display_data"
    }
   ],
   "source": [
    "Smarket.plot(y='Volume');"
   ]
  },
  {
   "cell_type": "markdown",
   "id": "70e34cbc-b004-4a56-9847-9d6a92420d5b",
   "metadata": {},
   "source": [
    "## Logistic regression"
   ]
  },
  {
   "cell_type": "markdown",
   "id": "b3491a93-a379-4df5-9801-b84e058946b2",
   "metadata": {},
   "source": [
    "Next, we will fit a logistic regression model in order to predict Direction using *Lag1* through *Lag5* and *Volume*. The *sm.GLM()* function fits generalized linear models, a class of models that includes logistic regression. Alternatively, the function *sm.Logit()* fits a logistic regression model directly. The syntax of sm.GLM() is similar to that of sm.OLS(), except that\n",
    "we must pass in the argument *family=sm.families.Binomial()* in order to\n",
    "tell statsmodels to run a logistic regression rather than some other type of\n",
    "generalized linear model."
   ]
  },
  {
   "cell_type": "code",
   "execution_count": 8,
   "id": "139f3812-694e-4aa9-8384-286b35944532",
   "metadata": {},
   "outputs": [
    {
     "data": {
      "text/html": [
       "<div>\n",
       "<style scoped>\n",
       "    .dataframe tbody tr th:only-of-type {\n",
       "        vertical-align: middle;\n",
       "    }\n",
       "\n",
       "    .dataframe tbody tr th {\n",
       "        vertical-align: top;\n",
       "    }\n",
       "\n",
       "    .dataframe thead th {\n",
       "        text-align: right;\n",
       "    }\n",
       "</style>\n",
       "<table border=\"1\" class=\"dataframe\">\n",
       "  <thead>\n",
       "    <tr style=\"text-align: right;\">\n",
       "      <th></th>\n",
       "      <th>coef</th>\n",
       "      <th>std err</th>\n",
       "      <th>z</th>\n",
       "      <th>P&gt;|z|</th>\n",
       "    </tr>\n",
       "  </thead>\n",
       "  <tbody>\n",
       "    <tr>\n",
       "      <th>intercept</th>\n",
       "      <td>-0.1260</td>\n",
       "      <td>0.241</td>\n",
       "      <td>-0.523</td>\n",
       "      <td>0.601</td>\n",
       "    </tr>\n",
       "    <tr>\n",
       "      <th>Lag1</th>\n",
       "      <td>-0.0731</td>\n",
       "      <td>0.050</td>\n",
       "      <td>-1.457</td>\n",
       "      <td>0.145</td>\n",
       "    </tr>\n",
       "    <tr>\n",
       "      <th>Lag2</th>\n",
       "      <td>-0.0423</td>\n",
       "      <td>0.050</td>\n",
       "      <td>-0.845</td>\n",
       "      <td>0.398</td>\n",
       "    </tr>\n",
       "    <tr>\n",
       "      <th>Lag3</th>\n",
       "      <td>0.0111</td>\n",
       "      <td>0.050</td>\n",
       "      <td>0.222</td>\n",
       "      <td>0.824</td>\n",
       "    </tr>\n",
       "    <tr>\n",
       "      <th>Lag4</th>\n",
       "      <td>0.0094</td>\n",
       "      <td>0.050</td>\n",
       "      <td>0.187</td>\n",
       "      <td>0.851</td>\n",
       "    </tr>\n",
       "    <tr>\n",
       "      <th>Lag5</th>\n",
       "      <td>0.0103</td>\n",
       "      <td>0.050</td>\n",
       "      <td>0.208</td>\n",
       "      <td>0.835</td>\n",
       "    </tr>\n",
       "    <tr>\n",
       "      <th>Volume</th>\n",
       "      <td>0.1354</td>\n",
       "      <td>0.158</td>\n",
       "      <td>0.855</td>\n",
       "      <td>0.392</td>\n",
       "    </tr>\n",
       "  </tbody>\n",
       "</table>\n",
       "</div>"
      ],
      "text/plain": [
       "             coef  std err      z  P>|z|\n",
       "intercept -0.1260    0.241 -0.523  0.601\n",
       "Lag1      -0.0731    0.050 -1.457  0.145\n",
       "Lag2      -0.0423    0.050 -0.845  0.398\n",
       "Lag3       0.0111    0.050  0.222  0.824\n",
       "Lag4       0.0094    0.050  0.187  0.851\n",
       "Lag5       0.0103    0.050  0.208  0.835\n",
       "Volume     0.1354    0.158  0.855  0.392"
      ]
     },
     "execution_count": 8,
     "metadata": {},
     "output_type": "execute_result"
    }
   ],
   "source": [
    "# Include only Lag1 through 5 and volume\n",
    "allvars = Smarket.columns.drop(['Today', 'Direction', 'Year'])\n",
    "X = MS(allvars).fit_transform(Smarket)\n",
    "# Converts direction into a boolean variable\n",
    "y = Smarket.Direction == 'Up'\n",
    "# Performs a Logistic regression\n",
    "glm = sm.GLM(y, X, family=sm.families.Binomial())\n",
    "results = glm.fit()\n",
    "summarize(results)"
   ]
  },
  {
   "cell_type": "markdown",
   "id": "0ed019ff-7fa1-4599-81c8-35f782a619c6",
   "metadata": {},
   "source": [
    "The smallest p-value here is associated with Lag1. The negative coefficient\n",
    "for this predictor suggests that if the market had a positive return yesterday,\n",
    "then it is less likely to go up today. However, at a value of 0.15, the p-value\n",
    "is still relatively large, and so there is no clear evidence of a real association\n",
    "between Lag1 and Direction."
   ]
  },
  {
   "cell_type": "markdown",
   "id": "29bd9064-8772-4191-b3bd-b404786ed7d5",
   "metadata": {},
   "source": [
    "The **predict()** method of results can be used to predict the probability\n",
    "that the market will go up, given values of the predictors. This method\n",
    "returns predictions on the probability scale. If no data set is supplied to\n",
    "the predict() function, then the probabilities are computed for the training\n",
    "data that was used to fit the logistic regression model. As with linear\n",
    "regression, one can pass an optional exog argument consistent with a design\n",
    "matrix if desired. Here we have printed only the first ten probabilities."
   ]
  },
  {
   "cell_type": "code",
   "execution_count": 9,
   "id": "d55ff433-d06f-4b20-b3a3-4cd3de1442ca",
   "metadata": {},
   "outputs": [],
   "source": [
    "probs = results.predict()"
   ]
  },
  {
   "cell_type": "markdown",
   "id": "7f2687a5-712e-46b6-b1b4-1c474fb27f91",
   "metadata": {},
   "source": [
    "In order to make a prediction as to whether the market will go up or\n",
    "down on a particular day, we must convert these predicted probabilities\n",
    "into class labels, Up or Down. The following two commands create a vector\n",
    "of class predictions based on whether the predicted probability of a market\n",
    "increase is greater than or less than 0.5."
   ]
  },
  {
   "cell_type": "code",
   "execution_count": 10,
   "id": "1ca0b322-9294-498c-9731-61e88a13eb64",
   "metadata": {},
   "outputs": [],
   "source": [
    "labels = np.array(['Down']*1250)\n",
    "labels[probs >0.5] = \"Up\""
   ]
  },
  {
   "cell_type": "markdown",
   "id": "49071b14-71f9-49f6-b8bb-edaf75cab493",
   "metadata": {},
   "source": [
    "The **confusion_table()** function from the ISLP package summarizes these \n",
    "predictions, showing how many observations were correctly or incorrectly \n",
    "classified. Our function, which is adapted from a similar function in the\n",
    "module sklearn.metrics, transposes the resulting matrix and includes row\n",
    "and column labels. The confusion_table() function **takes as first argument\n",
    "the predicted labels, and second argument the true labels**."
   ]
  },
  {
   "cell_type": "code",
   "execution_count": 11,
   "id": "cfda7668-6a33-4623-9aa3-faa792ac74c1",
   "metadata": {},
   "outputs": [
    {
     "data": {
      "text/html": [
       "<div>\n",
       "<style scoped>\n",
       "    .dataframe tbody tr th:only-of-type {\n",
       "        vertical-align: middle;\n",
       "    }\n",
       "\n",
       "    .dataframe tbody tr th {\n",
       "        vertical-align: top;\n",
       "    }\n",
       "\n",
       "    .dataframe thead th {\n",
       "        text-align: right;\n",
       "    }\n",
       "</style>\n",
       "<table border=\"1\" class=\"dataframe\">\n",
       "  <thead>\n",
       "    <tr style=\"text-align: right;\">\n",
       "      <th>Truth</th>\n",
       "      <th>Down</th>\n",
       "      <th>Up</th>\n",
       "    </tr>\n",
       "    <tr>\n",
       "      <th>Predicted</th>\n",
       "      <th></th>\n",
       "      <th></th>\n",
       "    </tr>\n",
       "  </thead>\n",
       "  <tbody>\n",
       "    <tr>\n",
       "      <th>Down</th>\n",
       "      <td>145</td>\n",
       "      <td>141</td>\n",
       "    </tr>\n",
       "    <tr>\n",
       "      <th>Up</th>\n",
       "      <td>457</td>\n",
       "      <td>507</td>\n",
       "    </tr>\n",
       "  </tbody>\n",
       "</table>\n",
       "</div>"
      ],
      "text/plain": [
       "Truth      Down   Up\n",
       "Predicted           \n",
       "Down        145  141\n",
       "Up          457  507"
      ]
     },
     "execution_count": 11,
     "metadata": {},
     "output_type": "execute_result"
    }
   ],
   "source": [
    "confusion_table(labels , Smarket.Direction)"
   ]
  },
  {
   "cell_type": "markdown",
   "id": "7d5eed77-d81f-41d8-b176-dbd14ee7cf91",
   "metadata": {},
   "source": [
    "The **diagonal elements of the confusion matrix indicate correct predictions,\n",
    "while the off-diagonals represent incorrect predictions**. Hence our model\n",
    "correctly predicted that the market would go up on 507 days and that\n",
    "it would go down on 145 days, for a total of 507 + 145 = 652 correct\n",
    "predictions. The np.mean() function can be used to compute the fraction of\n",
    "days for which the prediction was correct. In this case, logistic regression\n",
    "correctly predicted the movement of the market 52.2% of the time."
   ]
  },
  {
   "cell_type": "code",
   "execution_count": 12,
   "id": "695e4c32-be53-4068-8be2-26122c3fbf97",
   "metadata": {},
   "outputs": [
    {
     "data": {
      "text/plain": [
       "52.16"
      ]
     },
     "execution_count": 12,
     "metadata": {},
     "output_type": "execute_result"
    }
   ],
   "source": [
    "np.mean(labels == Smarket.Direction)*100"
   ]
  },
  {
   "cell_type": "markdown",
   "id": "a20a4e8a-18bd-4c31-a02a-61504163a81c",
   "metadata": {},
   "source": [
    "At first glance, it appears that the logistic regression model is working\n",
    "a little better than random guessing. However, this result is misleading\n",
    "because we trained and tested the model on the same set of 1,250 observations.\n",
    "In other words, 100 − 52.2 = 47.8% is the training error rate. As\n",
    "we have seen previously, the training error rate is often overly optimistic\n",
    "— it tends to underestimate the test error rate. In order to better assess\n",
    "the accuracy of the logistic regression model in this setting, we can fit the\n",
    "model using part of the data, and then examine how well it predicts the\n",
    "held out data. This will yield a more realistic error rate, in the sense that in\n",
    "practice we will be interested in our model’s performance not on the data\n",
    "that we used to fit the model, but rather on days in the future for which\n",
    "the market’s movements are unknown."
   ]
  },
  {
   "cell_type": "code",
   "execution_count": 13,
   "id": "3c4a19ac-ced5-4fc7-aee3-fff3ec425018",
   "metadata": {},
   "outputs": [
    {
     "data": {
      "text/plain": [
       "(252, 9)"
      ]
     },
     "execution_count": 13,
     "metadata": {},
     "output_type": "execute_result"
    }
   ],
   "source": [
    "# Observations happened before 2005 are set to True, the others are set to false\n",
    "train = (Smarket.Year < 2005)\n",
    "# Trains using pre 2005 data\n",
    "Smarket_train = Smarket.loc[train]\n",
    "# Tests with 2005 data\n",
    "Smarket_test = Smarket.loc[~train]\n",
    "Smarket_test.shape"
   ]
  },
  {
   "cell_type": "markdown",
   "id": "ba20e34b-3ab2-459d-97ec-cd9c6b4ea552",
   "metadata": {},
   "source": [
    "The object train is a vector of 1,250 elements, corresponding to the\n",
    "observations in our data set. The elements of the vector that correspond\n",
    "to observations that occurred before 2005 are set to True, whereas those\n",
    "that correspond to observations in 2005 are set to False. Hence train is a\n",
    "boolean array, since its elements are True and False. Boolean arrays can be\n",
    "used to obtain a subset of the rows or columns of a data frame using the\n",
    "loc method. For instance, the command Smarket.loc[train] would pick\n",
    "out a submatrix of the stock market data set, corresponding only to the\n",
    "dates before 2005, since those are the ones for which the elements of train\n",
    "are True. The ~ symbol can be used to negate all of the elements of a\n",
    "Boolean vector. That is, \\~train is a vector similar to train, except that\n",
    "the elements that are True in train get swapped to False in \\~train, and\n",
    "vice versa. Therefore, Smarket.loc[~train] yields a subset of the rows of\n",
    "the data frame of the stock market data containing only the observations\n",
    "for which train is False. The output above indicates that there are 252\n",
    "such observations.\n",
    "We now fit a logistic regression model using only the subset of the observations\n",
    "that correspond to dates before 2005. We then obtain predicted\n",
    "probabilities of the stock market going up for each of the days in our test\n",
    "set — that is, for the days in 2005."
   ]
  },
  {
   "cell_type": "code",
   "execution_count": 14,
   "id": "6a1d2767-2171-4383-8245-b1e98f40a054",
   "metadata": {},
   "outputs": [],
   "source": [
    "# Separates the X dataframe (which excludes year, today and direction) into test and training\n",
    "X_train , X_test = X.loc[train], X.loc[~train]\n",
    "y_train , y_test = y.loc[train], y.loc[~train]\n",
    "# train the model with the train set\n",
    "glm_train = sm.GLM(y_train , X_train , family=sm.families.Binomial())\n",
    "results = glm_train.fit()\n",
    "# Predicts using the test set\n",
    "probs = results.predict(exog=X_test)"
   ]
  },
  {
   "cell_type": "code",
   "execution_count": 15,
   "id": "d759cdc7-5e7b-4b99-ba47-cadae87cd574",
   "metadata": {},
   "outputs": [
    {
     "data": {
      "text/plain": [
       "(     intercept   Lag1   Lag2   Lag3   Lag4   Lag5  Volume\n",
       " 0          1.0  0.381 -0.192 -2.624 -1.055  5.010  1.1913\n",
       " 1          1.0  0.959  0.381 -0.192 -2.624 -1.055  1.2965\n",
       " 2          1.0  1.032  0.959  0.381 -0.192 -2.624  1.4112\n",
       " 3          1.0 -0.623  1.032  0.959  0.381 -0.192  1.2760\n",
       " 4          1.0  0.614 -0.623  1.032  0.959  0.381  1.2057\n",
       " ..         ...    ...    ...    ...    ...    ...     ...\n",
       " 993        1.0  0.046  0.342  0.904  0.038 -0.749  0.9561\n",
       " 994        1.0 -0.431  0.046  0.342  0.904  0.038  0.9220\n",
       " 995        1.0  0.715 -0.431  0.046  0.342  0.904  0.9830\n",
       " 996        1.0 -0.007  0.715 -0.431  0.046  0.342  0.9259\n",
       " 997        1.0  0.008 -0.007  0.715 -0.431  0.046  0.8298\n",
       " \n",
       " [998 rows x 7 columns],\n",
       "       intercept   Lag1   Lag2   Lag3   Lag4   Lag5   Volume\n",
       " 998         1.0 -0.134  0.008 -0.007  0.715 -0.431  0.78690\n",
       " 999         1.0 -0.812 -0.134  0.008 -0.007  0.715  1.51080\n",
       " 1000        1.0 -1.167 -0.812 -0.134  0.008 -0.007  1.72100\n",
       " 1001        1.0 -0.363 -1.167 -0.812 -0.134  0.008  1.73890\n",
       " 1002        1.0  0.351 -0.363 -1.167 -0.812 -0.134  1.56910\n",
       " ...         ...    ...    ...    ...    ...    ...      ...\n",
       " 1245        1.0  0.422  0.252 -0.024 -0.584 -0.285  1.88850\n",
       " 1246        1.0  0.043  0.422  0.252 -0.024 -0.584  1.28581\n",
       " 1247        1.0 -0.955  0.043  0.422  0.252 -0.024  1.54047\n",
       " 1248        1.0  0.130 -0.955  0.043  0.422  0.252  1.42236\n",
       " 1249        1.0 -0.298  0.130 -0.955  0.043  0.422  1.38254\n",
       " \n",
       " [252 rows x 7 columns])"
      ]
     },
     "execution_count": 15,
     "metadata": {},
     "output_type": "execute_result"
    }
   ],
   "source": [
    "X_train, X_test"
   ]
  },
  {
   "cell_type": "code",
   "execution_count": 16,
   "id": "5d8302c9-7fe8-4509-a527-9c99b672928f",
   "metadata": {},
   "outputs": [],
   "source": [
    "# Selects the direction column\n",
    "D = Smarket.Direction\n",
    "# Extracts the direction column for the training and test\n",
    "L_train , L_test = D.loc[train], D.loc[~train]"
   ]
  },
  {
   "cell_type": "code",
   "execution_count": 17,
   "id": "2b7ff86c-1e38-4698-b621-d371a898040a",
   "metadata": {},
   "outputs": [
    {
     "data": {
      "text/plain": [
       "0         Up\n",
       "1         Up\n",
       "2       Down\n",
       "3         Up\n",
       "4         Up\n",
       "        ... \n",
       "1245      Up\n",
       "1246    Down\n",
       "1247      Up\n",
       "1248    Down\n",
       "1249    Down\n",
       "Name: Direction, Length: 1250, dtype: category\n",
       "Categories (2, object): ['Down', 'Up']"
      ]
     },
     "execution_count": 17,
     "metadata": {},
     "output_type": "execute_result"
    }
   ],
   "source": [
    "D"
   ]
  },
  {
   "cell_type": "code",
   "execution_count": 18,
   "id": "91e44cf0-0e81-4c9d-a260-ae147184c303",
   "metadata": {},
   "outputs": [
    {
     "data": {
      "text/html": [
       "<div>\n",
       "<style scoped>\n",
       "    .dataframe tbody tr th:only-of-type {\n",
       "        vertical-align: middle;\n",
       "    }\n",
       "\n",
       "    .dataframe tbody tr th {\n",
       "        vertical-align: top;\n",
       "    }\n",
       "\n",
       "    .dataframe thead th {\n",
       "        text-align: right;\n",
       "    }\n",
       "</style>\n",
       "<table border=\"1\" class=\"dataframe\">\n",
       "  <thead>\n",
       "    <tr style=\"text-align: right;\">\n",
       "      <th>Truth</th>\n",
       "      <th>Down</th>\n",
       "      <th>Up</th>\n",
       "    </tr>\n",
       "    <tr>\n",
       "      <th>Predicted</th>\n",
       "      <th></th>\n",
       "      <th></th>\n",
       "    </tr>\n",
       "  </thead>\n",
       "  <tbody>\n",
       "    <tr>\n",
       "      <th>Down</th>\n",
       "      <td>77</td>\n",
       "      <td>97</td>\n",
       "    </tr>\n",
       "    <tr>\n",
       "      <th>Up</th>\n",
       "      <td>34</td>\n",
       "      <td>44</td>\n",
       "    </tr>\n",
       "  </tbody>\n",
       "</table>\n",
       "</div>"
      ],
      "text/plain": [
       "Truth      Down  Up\n",
       "Predicted          \n",
       "Down         77  97\n",
       "Up           34  44"
      ]
     },
     "execution_count": 18,
     "metadata": {},
     "output_type": "execute_result"
    }
   ],
   "source": [
    "labels = np.array(['Down']*252)\n",
    "labels[probs >0.5] = 'Up'\n",
    "confusion_table(labels , L_test)"
   ]
  },
  {
   "cell_type": "code",
   "execution_count": 19,
   "id": "e02a1275-063b-49e8-b90d-4eedfaaec2cf",
   "metadata": {},
   "outputs": [
    {
     "data": {
      "text/plain": [
       "(0.4801587301587302, 0.5198412698412699)"
      ]
     },
     "execution_count": 19,
     "metadata": {},
     "output_type": "execute_result"
    }
   ],
   "source": [
    "np.mean(labels == L_test), np.mean(labels != L_test)"
   ]
  },
  {
   "cell_type": "markdown",
   "id": "f3f152b0-05da-4c22-9637-56b611d44294",
   "metadata": {},
   "source": [
    "The test accuracy is about 48% while the error rate is about 52%, lower than previously seen."
   ]
  },
  {
   "cell_type": "markdown",
   "id": "4d421bdd-b622-4444-878b-6f75afc1fc6e",
   "metadata": {},
   "source": [
    "The results are rather disappointing: **the test error\n",
    "rate is 52%, which is worse than random guessing!** Of course this result\n",
    "is not all that surprising, given that one would not generally expect to be\n",
    "able to use previous days’ returns to predict future market performance."
   ]
  },
  {
   "cell_type": "markdown",
   "id": "36ef2bf3-e98f-4c57-8d9e-6affd70fe725",
   "metadata": {},
   "source": [
    "We recall that the logistic regression model had very underwhelming pvalues\n",
    "associated with all of the predictors, and that the smallest p-value,\n",
    "though not very small, corresponded to Lag1. Perhaps by removing the\n",
    "variables that appear not to be helpful in predicting Direction, we can\n",
    "obtain a more effective model. After all, ***using predictors that have no\n",
    "relationship with the response tends to cause a deterioration in the test\n",
    "error rate** (since such predictors cause an increase in variance without a\n",
    "corresponding decrease in bias), and so removing such predictors may in\n",
    "turn yield an improvement. \n",
    "\n",
    "Below we refit the logistic regression using just\n",
    "Lag1 and Lag2 (percentange of return for the previous day and for two days prior), which seemed to have the highest predictive power in the\n",
    "original logistic regression model."
   ]
  },
  {
   "cell_type": "code",
   "execution_count": 20,
   "id": "fbdb6dc4-7679-4c02-bad7-cd6b5eb24bc9",
   "metadata": {},
   "outputs": [
    {
     "data": {
      "text/html": [
       "<div>\n",
       "<style scoped>\n",
       "    .dataframe tbody tr th:only-of-type {\n",
       "        vertical-align: middle;\n",
       "    }\n",
       "\n",
       "    .dataframe tbody tr th {\n",
       "        vertical-align: top;\n",
       "    }\n",
       "\n",
       "    .dataframe thead th {\n",
       "        text-align: right;\n",
       "    }\n",
       "</style>\n",
       "<table border=\"1\" class=\"dataframe\">\n",
       "  <thead>\n",
       "    <tr style=\"text-align: right;\">\n",
       "      <th>Truth</th>\n",
       "      <th>Down</th>\n",
       "      <th>Up</th>\n",
       "    </tr>\n",
       "    <tr>\n",
       "      <th>Predicted</th>\n",
       "      <th></th>\n",
       "      <th></th>\n",
       "    </tr>\n",
       "  </thead>\n",
       "  <tbody>\n",
       "    <tr>\n",
       "      <th>Down</th>\n",
       "      <td>35</td>\n",
       "      <td>35</td>\n",
       "    </tr>\n",
       "    <tr>\n",
       "      <th>Up</th>\n",
       "      <td>76</td>\n",
       "      <td>106</td>\n",
       "    </tr>\n",
       "  </tbody>\n",
       "</table>\n",
       "</div>"
      ],
      "text/plain": [
       "Truth      Down   Up\n",
       "Predicted           \n",
       "Down         35   35\n",
       "Up           76  106"
      ]
     },
     "execution_count": 20,
     "metadata": {},
     "output_type": "execute_result"
    }
   ],
   "source": [
    "model = MS(['Lag1', 'Lag2']).fit(Smarket)\n",
    "X = model.transform(Smarket)\n",
    "X_train , X_test = X.loc[train], X.loc[~train]\n",
    "glm_train = sm.GLM(y_train ,\n",
    "X_train ,\n",
    "family=sm.families.Binomial())\n",
    "results = glm_train.fit()\n",
    "probs = results.predict(exog=X_test)\n",
    "labels = np.array(['Down']*252)\n",
    "labels[probs >0.5] = 'Up'\n",
    "confusion_table(labels , L_test)"
   ]
  },
  {
   "cell_type": "code",
   "execution_count": 21,
   "id": "1883b006-b285-4416-afe7-d7566d5cf44c",
   "metadata": {},
   "outputs": [
    {
     "data": {
      "text/plain": [
       "(0.5595238095238095, 0.44047619047619047)"
      ]
     },
     "execution_count": 21,
     "metadata": {},
     "output_type": "execute_result"
    }
   ],
   "source": [
    "np.mean(labels == L_test), np.mean(labels != L_test)"
   ]
  },
  {
   "cell_type": "markdown",
   "id": "fd169179-c13e-4325-9f0b-37a31e227159",
   "metadata": {},
   "source": [
    "Now the results appear to be a little better: 56% of the daily movements\n",
    "have been correctly predicted. **It is worth noting that in this case, a much\n",
    "simpler strategy of predicting that the market will increase every day will\n",
    "also be correct 56% of the time!** Hence, in terms of overall error rate, the\n",
    "**logistic regression method is no better than the naive approach**. "
   ]
  },
  {
   "cell_type": "code",
   "execution_count": 30,
   "id": "36aa6919-6890-4a4a-a292-c5fa956d7482",
   "metadata": {},
   "outputs": [
    {
     "data": {
      "text/html": [
       "<div>\n",
       "<style scoped>\n",
       "    .dataframe tbody tr th:only-of-type {\n",
       "        vertical-align: middle;\n",
       "    }\n",
       "\n",
       "    .dataframe tbody tr th {\n",
       "        vertical-align: top;\n",
       "    }\n",
       "\n",
       "    .dataframe thead th {\n",
       "        text-align: right;\n",
       "    }\n",
       "</style>\n",
       "<table border=\"1\" class=\"dataframe\">\n",
       "  <thead>\n",
       "    <tr style=\"text-align: right;\">\n",
       "      <th>Truth</th>\n",
       "      <th>Down</th>\n",
       "      <th>Up</th>\n",
       "    </tr>\n",
       "    <tr>\n",
       "      <th>Predicted</th>\n",
       "      <th></th>\n",
       "      <th></th>\n",
       "    </tr>\n",
       "  </thead>\n",
       "  <tbody>\n",
       "    <tr>\n",
       "      <th>Down</th>\n",
       "      <td>0</td>\n",
       "      <td>0</td>\n",
       "    </tr>\n",
       "    <tr>\n",
       "      <th>Up</th>\n",
       "      <td>111</td>\n",
       "      <td>141</td>\n",
       "    </tr>\n",
       "  </tbody>\n",
       "</table>\n",
       "</div>"
      ],
      "text/plain": [
       "Truth      Down   Up\n",
       "Predicted           \n",
       "Down          0    0\n",
       "Up          111  141"
      ]
     },
     "execution_count": 30,
     "metadata": {},
     "output_type": "execute_result"
    }
   ],
   "source": [
    "# The market is assumed to be rising everyday\n",
    "labels_naive = np.array(['Up']*len(X_test))\n",
    "confusion_table(labels_naive , L_test)"
   ]
  },
  {
   "cell_type": "code",
   "execution_count": 31,
   "id": "68b403e7-6b33-4fd6-8de1-a679c2b4c03d",
   "metadata": {},
   "outputs": [
    {
     "data": {
      "text/plain": [
       "55.952380952380956"
      ]
     },
     "execution_count": 31,
     "metadata": {},
     "output_type": "execute_result"
    }
   ],
   "source": [
    "np.mean(labels_naive == L_test)*100"
   ]
  },
  {
   "cell_type": "markdown",
   "id": "f4266d7c-2049-4e69-a0d9-360d8e5634e1",
   "metadata": {},
   "source": [
    "Same percentage"
   ]
  },
  {
   "cell_type": "markdown",
   "id": "42af6e80-90ba-4249-b428-cc9841f62291",
   "metadata": {},
   "source": [
    "However,the confusion matrix shows that on days when logistic regression predicts\n",
    "an increase in the market, it has a 58% accuracy rate. "
   ]
  },
  {
   "cell_type": "code",
   "execution_count": 23,
   "id": "a189f798-662a-4952-a6d9-8469cd48901b",
   "metadata": {},
   "outputs": [
    {
     "data": {
      "text/plain": [
       "0.5824175824175825"
      ]
     },
     "execution_count": 23,
     "metadata": {},
     "output_type": "execute_result"
    }
   ],
   "source": [
    "106/(106+76)"
   ]
  },
  {
   "cell_type": "markdown",
   "id": "357f3a08-2da5-4eab-85ba-862a123c2abd",
   "metadata": {},
   "source": [
    "This suggests a\n",
    "possible trading strategy of buying on days when the model predicts an increasing\n",
    "market, and avoiding trades on days when a decrease is predicted.\n",
    "Of course one would need to investigate more carefully whether this small\n",
    "improvement was real or just due to random chance."
   ]
  },
  {
   "cell_type": "markdown",
   "id": "a9e1e1bb-ecd5-4d10-8d8c-8ff018386c0b",
   "metadata": {},
   "source": [
    "## LDA"
   ]
  }
 ],
 "metadata": {
  "kernelspec": {
   "display_name": "Python 3 (ipykernel)",
   "language": "python",
   "name": "python3"
  },
  "language_info": {
   "codemirror_mode": {
    "name": "ipython",
    "version": 3
   },
   "file_extension": ".py",
   "mimetype": "text/x-python",
   "name": "python",
   "nbconvert_exporter": "python",
   "pygments_lexer": "ipython3",
   "version": "3.11.0"
  }
 },
 "nbformat": 4,
 "nbformat_minor": 5
}
