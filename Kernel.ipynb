{
 "cells": [
  {
   "cell_type": "code",
   "execution_count": 1,
   "id": "6cb7d720-6be2-4fc7-baed-11ed2f706301",
   "metadata": {},
   "outputs": [],
   "source": [
    "import numpy as np\n",
    "import matplotlib.pyplot as plt"
   ]
  },
  {
   "cell_type": "code",
   "execution_count": 13,
   "id": "4859d612-bdb4-4893-ba73-572e8847045f",
   "metadata": {},
   "outputs": [
    {
     "data": {
      "text/plain": [
       "array([[ 0, 51, 81, 68, 91, 48, 64, 70, 70, 34],\n",
       "       [92, 80, 29,  6, 86, 31, 46, 48, 91, 28],\n",
       "       [58, 15, 30, 66, 18, 53, 18, 21, 25, 92],\n",
       "       [34, 27, 60, 34, 45, 42, 92, 49, 21,  6],\n",
       "       [47, 16, 37, 13, 22, 54, 92, 12, 85, 26],\n",
       "       [22,  2, 61, 21,  7, 35, 50, 64, 67,  3],\n",
       "       [92, 15, 32,  2, 49, 43, 14, 57, 83, 89],\n",
       "       [92,  1, 23, 52,  2, 65, 74, 54,  3, 76],\n",
       "       [21, 59, 96, 55, 68, 79, 60, 46, 49, 57],\n",
       "       [35, 14, 80, 99, 96, 68, 32, 17, 28, 16]])"
      ]
     },
     "execution_count": 13,
     "metadata": {},
     "output_type": "execute_result"
    }
   ],
   "source": [
    "N = 10\n",
    "np.random.seed(48)\n",
    "X = np.random.randint(0, 100, size=(N, N))\n",
    "X"
   ]
  },
  {
   "cell_type": "markdown",
   "id": "24e55042-97f9-4715-823f-fe0af9aa01a4",
   "metadata": {},
   "source": [
    "Kernel:\n",
    "\\begin{equation}\n",
    "    \\mathbf{K} = \\mathbf{X}^{} \\mathbf{X}^{T}\n",
    "\\end{equation}\n",
    "Covariance matrix:\n",
    "\\begin{equation}\n",
    "     \\mathbf{X}^{T} \\mathbf{X}^{}\n",
    "\\end{equation}\n",
    "\n",
    "Even though X is not necessarily symmetric and positively defined, the kernel and the covariance matrix are."
   ]
  },
  {
   "cell_type": "code",
   "execution_count": 22,
   "id": "f015c4bd-581c-4c8e-afcc-bae25638c38f",
   "metadata": {},
   "outputs": [
    {
     "data": {
      "text/plain": [
       "array([[39423, 29777, 19365, 25652, 22853, 21260, 23738, 20062, 36933,\n",
       "        31668],\n",
       "       [29777, 37583, 17680, 21067, 23592, 17319, 29576, 20107, 29086,\n",
       "        22902],\n",
       "       [19365, 17680, 21832, 13219, 14617, 10698, 21526, 22487, 22539,\n",
       "        19611],\n",
       "       [25652, 21067, 13219, 21772, 18943, 16122, 15890, 19096, 25460,\n",
       "        21371],\n",
       "       [22853, 23592, 14617, 18943, 23912, 16781, 20515, 19108, 23679,\n",
       "        17844],\n",
       "       [21260, 17319, 10698, 16122, 16781, 17018, 16072, 14395, 20230,\n",
       "        15421],\n",
       "       [23738, 29576, 21526, 15890, 20515, 16072, 32222, 23339, 25330,\n",
       "        18981],\n",
       "       [20062, 20107, 22487, 19096, 19108, 14395, 23339, 30104, 23733,\n",
       "        19420],\n",
       "       [36933, 29086, 22539, 25460, 23679, 20230, 25330, 23733, 38394,\n",
       "        31572],\n",
       "       [31668, 22902, 19611, 21371, 17844, 15421, 18981, 19420, 31572,\n",
       "        33815]])"
      ]
     },
     "execution_count": 22,
     "metadata": {},
     "output_type": "execute_result"
    }
   ],
   "source": [
    "# Definition of Kernel\n",
    "K = X @ np.transpose(X)\n",
    "K"
   ]
  },
  {
   "cell_type": "code",
   "execution_count": 23,
   "id": "c852268b-ed2c-4584-8065-fd3a1d7ccc5c",
   "metadata": {},
   "outputs": [
    {
     "data": {
      "text/plain": [
       "array([[34271, 13145, 19405, 16197, 21154, 24637, 24304, 21045, 25926,\n",
       "        26341],\n",
       "       [13145, 14118, 16522, 10819, 19465, 14114, 15542, 13229, 17817,\n",
       "        10936],\n",
       "       [19405, 16522, 34161, 25924, 30168, 28925, 29502, 23822, 27220,\n",
       "        19179],\n",
       "       [16197, 10819, 25924, 26316, 23301, 24356, 21534, 16735, 15971,\n",
       "        18006],\n",
       "       [21154, 19465, 30168, 23301, 34804, 25448, 24604, 21454, 28023,\n",
       "        17946],\n",
       "       [24637, 14114, 28925, 24356, 25448, 28918, 28362, 21658, 24862,\n",
       "        23495],\n",
       "       [24304, 15542, 29502, 21534, 24604, 28362, 36260, 23976, 27438,\n",
       "        19016],\n",
       "       [21045, 13229, 23822, 16735, 21454, 21658, 23976, 22856, 23753,\n",
       "        18525],\n",
       "       [25926, 17817, 27220, 15971, 28023, 24862, 27438, 23753, 36044,\n",
       "        20621],\n",
       "       [26341, 10936, 19179, 18006, 17946, 23495, 19016, 18525, 20621,\n",
       "        28327]])"
      ]
     },
     "execution_count": 23,
     "metadata": {},
     "output_type": "execute_result"
    }
   ],
   "source": [
    "# Definition of Covariance matrix\n",
    "Cov = np.transpose(X) @  X\n",
    "Cov"
   ]
  },
  {
   "cell_type": "markdown",
   "id": "31caf126-e91a-485e-b236-90e5ab075846",
   "metadata": {},
   "source": [
    "$\\mathbf{np.linalg.eigh}$ : return the eigenvalues and eigenvectors of a complex Hermitian (conjugate symmetric) or a real symmetric matrix, like in the case being."
   ]
  },
  {
   "cell_type": "code",
   "execution_count": 28,
   "id": "0b5e588e-3fb5-4ef6-ab04-d3ad6f7b79e1",
   "metadata": {},
   "outputs": [],
   "source": [
    "eigval_K, eigvect_K = np.linalg.eigh(K)"
   ]
  },
  {
   "cell_type": "code",
   "execution_count": 29,
   "id": "91900430-48ba-4091-9e73-5d1e0326fd4e",
   "metadata": {},
   "outputs": [],
   "source": [
    "eigval_Cov, eigvect_Cov = np.linalg.eigh(Cov)"
   ]
  },
  {
   "cell_type": "code",
   "execution_count": 30,
   "id": "42f2d192-b52d-404b-a5bf-30e5ab0b96e6",
   "metadata": {},
   "outputs": [
    {
     "data": {
      "text/plain": [
       "array([-1.15107923e-12,  2.30784281e-11,  6.82121026e-13, -1.54614099e-11,\n",
       "       -1.81898940e-12,  2.36468622e-11, -5.45696821e-12, -3.63797881e-12,\n",
       "        3.63797881e-12, -2.91038305e-11])"
      ]
     },
     "execution_count": 30,
     "metadata": {},
     "output_type": "execute_result"
    }
   ],
   "source": [
    "eigval_K - eigval_Cov"
   ]
  },
  {
   "cell_type": "markdown",
   "id": "20d4feb8-75e7-4a4d-9e15-05d817306888",
   "metadata": {},
   "source": [
    "Eigenvalues of the kernel and covariance matrix are identical up to sensitivity of the calculation."
   ]
  },
  {
   "cell_type": "code",
   "execution_count": null,
   "id": "77fb0fb5-76b2-4747-9969-ff7facaf3edc",
   "metadata": {},
   "outputs": [],
   "source": []
  }
 ],
 "metadata": {
  "kernelspec": {
   "display_name": "Python 3 (ipykernel)",
   "language": "python",
   "name": "python3"
  },
  "language_info": {
   "codemirror_mode": {
    "name": "ipython",
    "version": 3
   },
   "file_extension": ".py",
   "mimetype": "text/x-python",
   "name": "python",
   "nbconvert_exporter": "python",
   "pygments_lexer": "ipython3",
   "version": "3.11.0"
  }
 },
 "nbformat": 4,
 "nbformat_minor": 5
}
